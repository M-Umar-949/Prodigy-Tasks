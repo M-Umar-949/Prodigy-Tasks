{
 "cells": [
  {
   "cell_type": "code",
   "execution_count": 1,
   "metadata": {},
   "outputs": [],
   "source": [
    "from pyspark.sql import SparkSession\n",
    "import pyspark.sql.functions as F"
   ]
  },
  {
   "cell_type": "code",
   "execution_count": 2,
   "metadata": {},
   "outputs": [
    {
     "name": "stderr",
     "output_type": "stream",
     "text": [
      "24/06/26 18:59:34 WARN Utils: Your hostname, umar-ThinkPad-T470 resolves to a loopback address: 127.0.1.1; using 192.168.18.21 instead (on interface wlp4s0)\n",
      "24/06/26 18:59:34 WARN Utils: Set SPARK_LOCAL_IP if you need to bind to another address\n",
      "Setting default log level to \"WARN\".\n",
      "To adjust logging level use sc.setLogLevel(newLevel). For SparkR, use setLogLevel(newLevel).\n",
      "24/06/26 18:59:36 WARN NativeCodeLoader: Unable to load native-hadoop library for your platform... using builtin-java classes where applicable\n"
     ]
    }
   ],
   "source": [
    "spark = SparkSession.builder.appName(\"ReadCSV\").getOrCreate()\n"
   ]
  },
  {
   "cell_type": "code",
   "execution_count": 3,
   "metadata": {},
   "outputs": [
    {
     "name": "stderr",
     "output_type": "stream",
     "text": [
      "24/06/26 19:00:30 WARN package: Truncated the string representation of a plan since it was too large. This behavior can be adjusted by setting 'spark.sql.debug.maxToStringFields'.\n"
     ]
    },
    {
     "name": "stdout",
     "output_type": "stream",
     "text": [
      "+----+-------+--------+-------------------+-------------------+------------------+------------------+-------+-------+------------+--------------------+--------------------+------------+----------+-----+----------+-------+----------+------------+-------------------+--------------+-------------+-----------+------------+--------------+--------------+---------------+-----------------+-----------------+-------+-----+--------+--------+--------+-------+-------+----------+-------+-----+---------------+--------------+------------+--------------+--------------+-----------------+---------------------+\n",
      "|  ID| Source|Severity|         Start_Time|           End_Time|         Start_Lat|         Start_Lng|End_Lat|End_Lng|Distance(mi)|         Description|              Street|        City|    County|State|   Zipcode|Country|  Timezone|Airport_Code|  Weather_Timestamp|Temperature(F)|Wind_Chill(F)|Humidity(%)|Pressure(in)|Visibility(mi)|Wind_Direction|Wind_Speed(mph)|Precipitation(in)|Weather_Condition|Amenity| Bump|Crossing|Give_Way|Junction|No_Exit|Railway|Roundabout|Station| Stop|Traffic_Calming|Traffic_Signal|Turning_Loop|Sunrise_Sunset|Civil_Twilight|Nautical_Twilight|Astronomical_Twilight|\n",
      "+----+-------+--------+-------------------+-------------------+------------------+------------------+-------+-------+------------+--------------------+--------------------+------------+----------+-----+----------+-------+----------+------------+-------------------+--------------+-------------+-----------+------------+--------------+--------------+---------------+-----------------+-----------------+-------+-----+--------+--------+--------+-------+-------+----------+-------+-----+---------------+--------------+------------+--------------+--------------+-----------------+---------------------+\n",
      "| A-1|Source2|       3|2016-02-08 05:46:00|2016-02-08 11:00:00|         39.865147|        -84.058723|   null|   null|        0.01|Right lane blocke...|              I-70 E|      Dayton|Montgomery|   OH|     45424|     US|US/Eastern|        KFFO|2016-02-08 05:58:00|          36.9|         null|       91.0|       29.68|          10.0|          Calm|           null|             0.02|       Light Rain|  false|false|   false|   false|   false|  false|  false|     false|  false|false|          false|         false|       false|         Night|         Night|            Night|                Night|\n",
      "| A-2|Source2|       2|2016-02-08 06:07:59|2016-02-08 06:37:59| 39.92805900000001|        -82.831184|   null|   null|        0.01|Accident on Brice...|            Brice Rd|Reynoldsburg|  Franklin|   OH|43068-3402|     US|US/Eastern|        KCMH|2016-02-08 05:51:00|          37.9|         null|      100.0|       29.65|          10.0|          Calm|           null|              0.0|       Light Rain|  false|false|   false|   false|   false|  false|  false|     false|  false|false|          false|         false|       false|         Night|         Night|            Night|                  Day|\n",
      "| A-3|Source2|       2|2016-02-08 06:49:27|2016-02-08 07:19:27|         39.063148|        -84.032608|   null|   null|        0.01|Accident on OH-32...|      State Route 32|Williamsburg|  Clermont|   OH|     45176|     US|US/Eastern|        KI69|2016-02-08 06:56:00|          36.0|         33.3|      100.0|       29.67|          10.0|            SW|            3.5|             null|         Overcast|  false|false|   false|   false|   false|  false|  false|     false|  false|false|          false|          true|       false|         Night|         Night|              Day|                  Day|\n",
      "| A-4|Source2|       3|2016-02-08 07:23:34|2016-02-08 07:53:34|         39.747753|-84.20558199999998|   null|   null|        0.01|Accident on I-75 ...|              I-75 S|      Dayton|Montgomery|   OH|     45417|     US|US/Eastern|        KDAY|2016-02-08 07:38:00|          35.1|         31.0|       96.0|       29.64|           9.0|            SW|            4.6|             null|    Mostly Cloudy|  false|false|   false|   false|   false|  false|  false|     false|  false|false|          false|         false|       false|         Night|           Day|              Day|                  Day|\n",
      "| A-5|Source2|       2|2016-02-08 07:39:07|2016-02-08 08:09:07|         39.627781|        -84.188354|   null|   null|        0.01|Accident on McEwe...|Miamisburg Center...|      Dayton|Montgomery|   OH|     45459|     US|US/Eastern|        KMGY|2016-02-08 07:53:00|          36.0|         33.3|       89.0|       29.65|           6.0|            SW|            3.5|             null|    Mostly Cloudy|  false|false|   false|   false|   false|  false|  false|     false|  false|false|          false|          true|       false|           Day|           Day|              Day|                  Day|\n",
      "| A-6|Source2|       3|2016-02-08 07:44:26|2016-02-08 08:14:26|40.100590000000004|-82.92519399999998|   null|   null|        0.01|Accident on I-270...|      Westerville Rd| Westerville|  Franklin|   OH|     43081|     US|US/Eastern|        KCMH|2016-02-08 07:51:00|          37.9|         35.5|       97.0|       29.63|           7.0|           SSW|            3.5|             0.03|       Light Rain|  false|false|   false|   false|   false|  false|  false|     false|  false|false|          false|         false|       false|           Day|           Day|              Day|                  Day|\n",
      "| A-7|Source2|       2|2016-02-08 07:59:35|2016-02-08 08:29:35|         39.758274|-84.23050699999997|   null|   null|         0.0|Accident on Oakri...|      N Woodward Ave|      Dayton|Montgomery|   OH|45417-2476|     US|US/Eastern|        KDAY|2016-02-08 07:56:00|          34.0|         31.0|      100.0|       29.66|           7.0|           WSW|            3.5|             null|         Overcast|  false|false|   false|   false|   false|  false|  false|     false|  false|false|          false|         false|       false|           Day|           Day|              Day|                  Day|\n",
      "| A-8|Source2|       3|2016-02-08 07:59:58|2016-02-08 08:29:58|         39.770382|        -84.194901|   null|   null|        0.01|Accident on I-75 ...|           N Main St|      Dayton|Montgomery|   OH|     45405|     US|US/Eastern|        KDAY|2016-02-08 07:56:00|          34.0|         31.0|      100.0|       29.66|           7.0|           WSW|            3.5|             null|         Overcast|  false|false|   false|   false|   false|  false|  false|     false|  false|false|          false|         false|       false|           Day|           Day|              Day|                  Day|\n",
      "| A-9|Source2|       2|2016-02-08 08:00:40|2016-02-08 08:30:40|         39.778061|        -84.172005|   null|   null|         0.0|Accident on Notre...|      Notre Dame Ave|      Dayton|Montgomery|   OH|45404-1923|     US|US/Eastern|        KFFO|2016-02-08 07:58:00|          33.3|         null|       99.0|       29.67|           5.0|            SW|            1.2|             null|    Mostly Cloudy|  false|false|   false|   false|   false|  false|  false|     false|  false|false|          false|         false|       false|           Day|           Day|              Day|                  Day|\n",
      "|A-10|Source2|       3|2016-02-08 08:10:04|2016-02-08 08:40:04|40.100590000000004|-82.92519399999998|   null|   null|        0.01|Right hand should...|      Westerville Rd| Westerville|  Franklin|   OH|     43081|     US|US/Eastern|        KCMH|2016-02-08 08:28:00|          37.4|         33.8|      100.0|       29.62|           3.0|           SSW|            4.6|             0.02|       Light Rain|  false|false|   false|   false|   false|  false|  false|     false|  false|false|          false|         false|       false|           Day|           Day|              Day|                  Day|\n",
      "|A-11|Source2|       3|2016-02-08 08:14:42|2016-02-08 08:44:42|         39.952812|        -83.119293|   null|   null|        0.01|Accident on I-270...|         Outerbelt S|    Columbus|  Franklin|   OH|     43228|     US|US/Eastern|        KTZR|2016-02-08 07:50:00|          35.6|         30.7|       93.0|       29.64|           5.0|           WNW|            5.8|             null|             Rain|  false|false|    true|   false|    true|  false|  false|     false|  false|false|          false|         false|       false|           Day|           Day|              Day|                  Day|\n",
      "|A-12|Source2|       3|2016-02-08 08:21:27|2016-02-08 08:51:27|         39.932709|         -82.83091|   null|   null|        0.01|One lane blocked ...|              I-70 E|Reynoldsburg|  Franklin|   OH|     43068|     US|US/Eastern|        KCMH|2016-02-08 08:28:00|          37.4|         33.8|      100.0|       29.62|           3.0|           SSW|            4.6|             0.02|       Light Rain|  false|false|   false|   false|   false|  false|  false|     false|  false|false|          false|         false|       false|           Day|           Day|              Day|                  Day|\n",
      "|A-13|Source2|       2|2016-02-08 08:36:34|2016-02-08 09:06:34|         39.737633|-84.14993299999998|   null|   null|         0.0|Accident on Rever...|      Watervliet Ave|      Dayton|Montgomery|   OH|45420-1863|     US|US/Eastern|        KFFO|2016-02-08 08:28:00|          33.8|         null|      100.0|       29.63|           3.0|            SW|            2.3|             null|         Overcast|  false|false|   false|   false|   false|  false|  false|     false|  false|false|          false|         false|       false|           Day|           Day|              Day|                  Day|\n",
      "|A-14|Source2|       2|2016-02-08 08:37:07|2016-02-08 09:07:07|          39.79076|        -84.241547|   null|   null|        0.01|Accident on Salem...|           Salem Ave|      Dayton|Montgomery|   OH|45406-2708|     US|US/Eastern|        KDAY|2016-02-08 08:56:00|          36.0|         31.1|       89.0|       29.65|          10.0|            NW|            5.8|             null|    Mostly Cloudy|  false|false|   false|   false|   false|  false|  false|     false|  false|false|          false|          true|       false|           Day|           Day|              Day|                  Day|\n",
      "|A-15|Source2|       2|2016-02-08 08:39:43|2016-02-08 09:09:43|         39.972038|        -82.913521|   null|   null|        0.01|Accident on OH-16...|          E Broad St|    Columbus|  Franklin|   OH|43213-1006|     US|US/Eastern|        KCMH|2016-02-08 08:28:00|          37.4|         33.8|      100.0|       29.62|           3.0|           SSW|            4.6|             0.02|       Light Rain|  false|false|   false|   false|   false|  false|  false|     false|  false|false|          false|          true|       false|           Day|           Day|              Day|                  Day|\n",
      "|A-16|Source2|       2|2016-02-08 08:43:20|2016-02-08 09:13:20|         39.745888|         -84.17041|   null|   null|        0.01|Accident on Wayne...|         Glencoe Ave|      Dayton|Montgomery|   OH|45410-1721|     US|US/Eastern|        KFFO|2016-02-08 08:28:00|          33.8|         null|      100.0|       29.63|           3.0|            SW|            2.3|             null|         Overcast|  false|false|   false|   false|   false|  false|  false|     false|  false|false|          false|         false|       false|           Day|           Day|              Day|                  Day|\n",
      "|A-17|Source2|       2|2016-02-08 08:53:17|2016-02-08 09:23:17|         39.748329|        -84.224007|   null|   null|        0.01|Accident on James...|S James H McGee Blvd|      Dayton|Montgomery|   OH|     45402|     US|US/Eastern|        KFFO|2016-02-08 08:58:00|          35.6|         null|       99.0|       29.65|           7.0|           WSW|            2.3|             null|    Mostly Cloudy|  false|false|   false|   false|   false|  false|  false|     false|  false|false|          false|         false|       false|           Day|           Day|              Day|                  Day|\n",
      "|A-18|Source2|       2|2016-02-08 09:24:37|2016-02-08 09:54:37|         39.752174|        -84.239952|   null|   null|         0.0|Accident on Delph...|         Delphos Ave|      Dayton|Montgomery|   OH|45417-1727|     US|US/Eastern|        KDAY|2016-02-08 08:56:00|          36.0|         31.1|       89.0|       29.65|          10.0|            NW|            5.8|             null|    Mostly Cloudy|  false|false|   false|   false|   false|  false|  false|     false|  false|false|          false|         false|       false|           Day|           Day|              Day|                  Day|\n",
      "|A-19|Source2|       2|2016-02-08 09:25:17|2016-02-08 09:55:17|         39.740669|        -84.184135|   null|   null|        0.01|Accident on Stewa...|          Rubicon St|      Dayton|Montgomery|   OH|45409-2659|     US|US/Eastern|        KFFO|2016-02-08 09:38:00|          37.4|         32.1|       93.0|       29.63|          10.0|           WSW|            6.9|             null|         Overcast|  false|false|    true|   false|   false|  false|  false|     false|  false|false|          false|          true|       false|           Day|           Day|              Day|                  Day|\n",
      "|A-20|Source2|       2|2016-02-08 09:35:35|2016-02-08 10:05:35|         39.790703|        -84.244461|   null|   null|        0.01|Accident on Hillc...|     W Hillcrest Ave|      Dayton|Montgomery|   OH|45406-2640|     US|US/Eastern|        KDAY|2016-02-08 09:56:00|          36.0|         30.3|       89.0|       29.65|          10.0|          West|            6.9|             null|    Mostly Cloudy|  false|false|   false|   false|   false|  false|  false|     false|  false|false|          false|         false|       false|           Day|           Day|              Day|                  Day|\n",
      "+----+-------+--------+-------------------+-------------------+------------------+------------------+-------+-------+------------+--------------------+--------------------+------------+----------+-----+----------+-------+----------+------------+-------------------+--------------+-------------+-----------+------------+--------------+--------------+---------------+-----------------+-----------------+-------+-----+--------+--------+--------+-------+-------+----------+-------+-----+---------------+--------------+------------+--------------+--------------+-----------------+---------------------+\n",
      "only showing top 20 rows\n",
      "\n"
     ]
    }
   ],
   "source": [
    "csv_file_path = 'accidents/US_Accidents_March23.csv'\n",
    "\n",
    "# Read the CSV file into a Spark DataFrame\n",
    "df = spark.read.csv(csv_file_path, header=True, inferSchema=True)\n",
    "\n",
    "# Show the first few rows of the DataFrame\n",
    "df.show()\n",
    "\n",
    "\n"
   ]
  },
  {
   "cell_type": "code",
   "execution_count": 4,
   "metadata": {},
   "outputs": [
    {
     "name": "stderr",
     "output_type": "stream",
     "text": [
      "[Stage 3:=================================================>       (20 + 3) / 23]\r"
     ]
    },
    {
     "name": "stdout",
     "output_type": "stream",
     "text": [
      "Number of rows: 7728394\n",
      "Number of columns: 46\n"
     ]
    },
    {
     "name": "stderr",
     "output_type": "stream",
     "text": [
      "                                                                                \r"
     ]
    }
   ],
   "source": [
    "row_count = df.count()\n",
    "\n",
    "# Count the number of columns\n",
    "column_count = len(df.columns)\n",
    "\n",
    "# Print the counts\n",
    "print(f\"Number of rows: {row_count}\")\n",
    "print(f\"Number of columns: {column_count}\")"
   ]
  },
  {
   "cell_type": "code",
   "execution_count": 6,
   "metadata": {},
   "outputs": [],
   "source": [
    "df=df.dropna()"
   ]
  },
  {
   "cell_type": "code",
   "execution_count": 7,
   "metadata": {},
   "outputs": [
    {
     "name": "stderr",
     "output_type": "stream",
     "text": [
      "[Stage 6:======================================================>  (22 + 1) / 23]\r"
     ]
    },
    {
     "name": "stdout",
     "output_type": "stream",
     "text": [
      "Number of rows: 3554549\n",
      "Number of columns: 46\n"
     ]
    },
    {
     "name": "stderr",
     "output_type": "stream",
     "text": [
      "                                                                                \r"
     ]
    }
   ],
   "source": [
    "row_count = df.count()\n",
    "\n",
    "# Count the number of columns\n",
    "column_count = len(df.columns)\n",
    "\n",
    "# Print the counts\n",
    "print(f\"Number of rows: {row_count}\")\n",
    "print(f\"Number of columns: {column_count}\")"
   ]
  },
  {
   "cell_type": "code",
   "execution_count": 8,
   "metadata": {},
   "outputs": [],
   "source": [
    "# Select relevant columns for analysis\n",
    "columns_of_interest = ['Start_Time', 'End_Time', 'Start_Lat', 'Start_Lng', 'Weather_Condition', 'Visibility(mi)', 'Precipitation(in)', 'Severity', 'City', 'State']\n",
    "df_filtered = df.select(columns_of_interest)\n",
    "\n",
    "# Extract hour from Start_Time for time of day analysis\n",
    "df_filtered = df_filtered.withColumn('Hour', F.hour('Start_Time'))\n",
    "\n",
    "# Aggregate data to find the number of accidents by hour, weather condition, and road condition\n",
    "accidents_by_hour = df_filtered.groupBy('Hour').count().orderBy('Hour')\n",
    "accidents_by_weather = df_filtered.groupBy('Weather_Condition').count().orderBy(F.desc('count'))\n",
    "\n",
    "# Aggregate data to find accident hotspots (e.g., by city or by geographical location)\n",
    "accidents_by_city = df_filtered.groupBy('City', 'State').count().orderBy(F.desc('count'))"
   ]
  },
  {
   "cell_type": "code",
   "execution_count": 9,
   "metadata": {},
   "outputs": [
    {
     "name": "stderr",
     "output_type": "stream",
     "text": [
      "                                                                                \r"
     ]
    }
   ],
   "source": [
    "# Convert to Pandas DataFrame\n",
    "accidents_by_hour_pd = accidents_by_hour.toPandas()\n",
    "accidents_by_weather_pd = accidents_by_weather.toPandas()\n",
    "accidents_by_city_pd = accidents_by_city.limit(100).toPandas()  # Limit to top 100 cities for visualization\n"
   ]
  },
  {
   "cell_type": "code",
   "execution_count": 11,
   "metadata": {},
   "outputs": [
    {
     "data": {
      "application/vnd.plotly.v1+json": {
       "config": {
        "plotlyServerURL": "https://plot.ly"
       },
       "data": [
        {
         "alignmentgroup": "True",
         "hovertemplate": "Hour=%{x}<br>count=%{y}<extra></extra>",
         "legendgroup": "",
         "marker": {
          "color": "#636efa",
          "pattern": {
           "shape": ""
          }
         },
         "name": "",
         "offsetgroup": "",
         "orientation": "v",
         "showlegend": false,
         "textposition": "auto",
         "type": "bar",
         "x": [
          0,
          1,
          2,
          3,
          4,
          5,
          6,
          7,
          8,
          9,
          10,
          11,
          12,
          13,
          14,
          15,
          16,
          17,
          18,
          19,
          20,
          21,
          22,
          23
         ],
         "xaxis": "x",
         "y": [
          81850,
          70312,
          65432,
          56442,
          58659,
          92358,
          139373,
          177060,
          160293,
          130760,
          129469,
          145683,
          178535,
          209890,
          248908,
          282309,
          283840,
          275184,
          201421,
          141648,
          119149,
          113098,
          102340,
          90536
         ],
         "yaxis": "y"
        }
       ],
       "layout": {
        "barmode": "relative",
        "legend": {
         "tracegroupgap": 0
        },
        "template": {
         "data": {
          "bar": [
           {
            "error_x": {
             "color": "#2a3f5f"
            },
            "error_y": {
             "color": "#2a3f5f"
            },
            "marker": {
             "line": {
              "color": "#E5ECF6",
              "width": 0.5
             },
             "pattern": {
              "fillmode": "overlay",
              "size": 10,
              "solidity": 0.2
             }
            },
            "type": "bar"
           }
          ],
          "barpolar": [
           {
            "marker": {
             "line": {
              "color": "#E5ECF6",
              "width": 0.5
             },
             "pattern": {
              "fillmode": "overlay",
              "size": 10,
              "solidity": 0.2
             }
            },
            "type": "barpolar"
           }
          ],
          "carpet": [
           {
            "aaxis": {
             "endlinecolor": "#2a3f5f",
             "gridcolor": "white",
             "linecolor": "white",
             "minorgridcolor": "white",
             "startlinecolor": "#2a3f5f"
            },
            "baxis": {
             "endlinecolor": "#2a3f5f",
             "gridcolor": "white",
             "linecolor": "white",
             "minorgridcolor": "white",
             "startlinecolor": "#2a3f5f"
            },
            "type": "carpet"
           }
          ],
          "choropleth": [
           {
            "colorbar": {
             "outlinewidth": 0,
             "ticks": ""
            },
            "type": "choropleth"
           }
          ],
          "contour": [
           {
            "colorbar": {
             "outlinewidth": 0,
             "ticks": ""
            },
            "colorscale": [
             [
              0,
              "#0d0887"
             ],
             [
              0.1111111111111111,
              "#46039f"
             ],
             [
              0.2222222222222222,
              "#7201a8"
             ],
             [
              0.3333333333333333,
              "#9c179e"
             ],
             [
              0.4444444444444444,
              "#bd3786"
             ],
             [
              0.5555555555555556,
              "#d8576b"
             ],
             [
              0.6666666666666666,
              "#ed7953"
             ],
             [
              0.7777777777777778,
              "#fb9f3a"
             ],
             [
              0.8888888888888888,
              "#fdca26"
             ],
             [
              1,
              "#f0f921"
             ]
            ],
            "type": "contour"
           }
          ],
          "contourcarpet": [
           {
            "colorbar": {
             "outlinewidth": 0,
             "ticks": ""
            },
            "type": "contourcarpet"
           }
          ],
          "heatmap": [
           {
            "colorbar": {
             "outlinewidth": 0,
             "ticks": ""
            },
            "colorscale": [
             [
              0,
              "#0d0887"
             ],
             [
              0.1111111111111111,
              "#46039f"
             ],
             [
              0.2222222222222222,
              "#7201a8"
             ],
             [
              0.3333333333333333,
              "#9c179e"
             ],
             [
              0.4444444444444444,
              "#bd3786"
             ],
             [
              0.5555555555555556,
              "#d8576b"
             ],
             [
              0.6666666666666666,
              "#ed7953"
             ],
             [
              0.7777777777777778,
              "#fb9f3a"
             ],
             [
              0.8888888888888888,
              "#fdca26"
             ],
             [
              1,
              "#f0f921"
             ]
            ],
            "type": "heatmap"
           }
          ],
          "heatmapgl": [
           {
            "colorbar": {
             "outlinewidth": 0,
             "ticks": ""
            },
            "colorscale": [
             [
              0,
              "#0d0887"
             ],
             [
              0.1111111111111111,
              "#46039f"
             ],
             [
              0.2222222222222222,
              "#7201a8"
             ],
             [
              0.3333333333333333,
              "#9c179e"
             ],
             [
              0.4444444444444444,
              "#bd3786"
             ],
             [
              0.5555555555555556,
              "#d8576b"
             ],
             [
              0.6666666666666666,
              "#ed7953"
             ],
             [
              0.7777777777777778,
              "#fb9f3a"
             ],
             [
              0.8888888888888888,
              "#fdca26"
             ],
             [
              1,
              "#f0f921"
             ]
            ],
            "type": "heatmapgl"
           }
          ],
          "histogram": [
           {
            "marker": {
             "pattern": {
              "fillmode": "overlay",
              "size": 10,
              "solidity": 0.2
             }
            },
            "type": "histogram"
           }
          ],
          "histogram2d": [
           {
            "colorbar": {
             "outlinewidth": 0,
             "ticks": ""
            },
            "colorscale": [
             [
              0,
              "#0d0887"
             ],
             [
              0.1111111111111111,
              "#46039f"
             ],
             [
              0.2222222222222222,
              "#7201a8"
             ],
             [
              0.3333333333333333,
              "#9c179e"
             ],
             [
              0.4444444444444444,
              "#bd3786"
             ],
             [
              0.5555555555555556,
              "#d8576b"
             ],
             [
              0.6666666666666666,
              "#ed7953"
             ],
             [
              0.7777777777777778,
              "#fb9f3a"
             ],
             [
              0.8888888888888888,
              "#fdca26"
             ],
             [
              1,
              "#f0f921"
             ]
            ],
            "type": "histogram2d"
           }
          ],
          "histogram2dcontour": [
           {
            "colorbar": {
             "outlinewidth": 0,
             "ticks": ""
            },
            "colorscale": [
             [
              0,
              "#0d0887"
             ],
             [
              0.1111111111111111,
              "#46039f"
             ],
             [
              0.2222222222222222,
              "#7201a8"
             ],
             [
              0.3333333333333333,
              "#9c179e"
             ],
             [
              0.4444444444444444,
              "#bd3786"
             ],
             [
              0.5555555555555556,
              "#d8576b"
             ],
             [
              0.6666666666666666,
              "#ed7953"
             ],
             [
              0.7777777777777778,
              "#fb9f3a"
             ],
             [
              0.8888888888888888,
              "#fdca26"
             ],
             [
              1,
              "#f0f921"
             ]
            ],
            "type": "histogram2dcontour"
           }
          ],
          "mesh3d": [
           {
            "colorbar": {
             "outlinewidth": 0,
             "ticks": ""
            },
            "type": "mesh3d"
           }
          ],
          "parcoords": [
           {
            "line": {
             "colorbar": {
              "outlinewidth": 0,
              "ticks": ""
             }
            },
            "type": "parcoords"
           }
          ],
          "pie": [
           {
            "automargin": true,
            "type": "pie"
           }
          ],
          "scatter": [
           {
            "fillpattern": {
             "fillmode": "overlay",
             "size": 10,
             "solidity": 0.2
            },
            "type": "scatter"
           }
          ],
          "scatter3d": [
           {
            "line": {
             "colorbar": {
              "outlinewidth": 0,
              "ticks": ""
             }
            },
            "marker": {
             "colorbar": {
              "outlinewidth": 0,
              "ticks": ""
             }
            },
            "type": "scatter3d"
           }
          ],
          "scattercarpet": [
           {
            "marker": {
             "colorbar": {
              "outlinewidth": 0,
              "ticks": ""
             }
            },
            "type": "scattercarpet"
           }
          ],
          "scattergeo": [
           {
            "marker": {
             "colorbar": {
              "outlinewidth": 0,
              "ticks": ""
             }
            },
            "type": "scattergeo"
           }
          ],
          "scattergl": [
           {
            "marker": {
             "colorbar": {
              "outlinewidth": 0,
              "ticks": ""
             }
            },
            "type": "scattergl"
           }
          ],
          "scattermapbox": [
           {
            "marker": {
             "colorbar": {
              "outlinewidth": 0,
              "ticks": ""
             }
            },
            "type": "scattermapbox"
           }
          ],
          "scatterpolar": [
           {
            "marker": {
             "colorbar": {
              "outlinewidth": 0,
              "ticks": ""
             }
            },
            "type": "scatterpolar"
           }
          ],
          "scatterpolargl": [
           {
            "marker": {
             "colorbar": {
              "outlinewidth": 0,
              "ticks": ""
             }
            },
            "type": "scatterpolargl"
           }
          ],
          "scatterternary": [
           {
            "marker": {
             "colorbar": {
              "outlinewidth": 0,
              "ticks": ""
             }
            },
            "type": "scatterternary"
           }
          ],
          "surface": [
           {
            "colorbar": {
             "outlinewidth": 0,
             "ticks": ""
            },
            "colorscale": [
             [
              0,
              "#0d0887"
             ],
             [
              0.1111111111111111,
              "#46039f"
             ],
             [
              0.2222222222222222,
              "#7201a8"
             ],
             [
              0.3333333333333333,
              "#9c179e"
             ],
             [
              0.4444444444444444,
              "#bd3786"
             ],
             [
              0.5555555555555556,
              "#d8576b"
             ],
             [
              0.6666666666666666,
              "#ed7953"
             ],
             [
              0.7777777777777778,
              "#fb9f3a"
             ],
             [
              0.8888888888888888,
              "#fdca26"
             ],
             [
              1,
              "#f0f921"
             ]
            ],
            "type": "surface"
           }
          ],
          "table": [
           {
            "cells": {
             "fill": {
              "color": "#EBF0F8"
             },
             "line": {
              "color": "white"
             }
            },
            "header": {
             "fill": {
              "color": "#C8D4E3"
             },
             "line": {
              "color": "white"
             }
            },
            "type": "table"
           }
          ]
         },
         "layout": {
          "annotationdefaults": {
           "arrowcolor": "#2a3f5f",
           "arrowhead": 0,
           "arrowwidth": 1
          },
          "autotypenumbers": "strict",
          "coloraxis": {
           "colorbar": {
            "outlinewidth": 0,
            "ticks": ""
           }
          },
          "colorscale": {
           "diverging": [
            [
             0,
             "#8e0152"
            ],
            [
             0.1,
             "#c51b7d"
            ],
            [
             0.2,
             "#de77ae"
            ],
            [
             0.3,
             "#f1b6da"
            ],
            [
             0.4,
             "#fde0ef"
            ],
            [
             0.5,
             "#f7f7f7"
            ],
            [
             0.6,
             "#e6f5d0"
            ],
            [
             0.7,
             "#b8e186"
            ],
            [
             0.8,
             "#7fbc41"
            ],
            [
             0.9,
             "#4d9221"
            ],
            [
             1,
             "#276419"
            ]
           ],
           "sequential": [
            [
             0,
             "#0d0887"
            ],
            [
             0.1111111111111111,
             "#46039f"
            ],
            [
             0.2222222222222222,
             "#7201a8"
            ],
            [
             0.3333333333333333,
             "#9c179e"
            ],
            [
             0.4444444444444444,
             "#bd3786"
            ],
            [
             0.5555555555555556,
             "#d8576b"
            ],
            [
             0.6666666666666666,
             "#ed7953"
            ],
            [
             0.7777777777777778,
             "#fb9f3a"
            ],
            [
             0.8888888888888888,
             "#fdca26"
            ],
            [
             1,
             "#f0f921"
            ]
           ],
           "sequentialminus": [
            [
             0,
             "#0d0887"
            ],
            [
             0.1111111111111111,
             "#46039f"
            ],
            [
             0.2222222222222222,
             "#7201a8"
            ],
            [
             0.3333333333333333,
             "#9c179e"
            ],
            [
             0.4444444444444444,
             "#bd3786"
            ],
            [
             0.5555555555555556,
             "#d8576b"
            ],
            [
             0.6666666666666666,
             "#ed7953"
            ],
            [
             0.7777777777777778,
             "#fb9f3a"
            ],
            [
             0.8888888888888888,
             "#fdca26"
            ],
            [
             1,
             "#f0f921"
            ]
           ]
          },
          "colorway": [
           "#636efa",
           "#EF553B",
           "#00cc96",
           "#ab63fa",
           "#FFA15A",
           "#19d3f3",
           "#FF6692",
           "#B6E880",
           "#FF97FF",
           "#FECB52"
          ],
          "font": {
           "color": "#2a3f5f"
          },
          "geo": {
           "bgcolor": "white",
           "lakecolor": "white",
           "landcolor": "#E5ECF6",
           "showlakes": true,
           "showland": true,
           "subunitcolor": "white"
          },
          "hoverlabel": {
           "align": "left"
          },
          "hovermode": "closest",
          "mapbox": {
           "style": "light"
          },
          "paper_bgcolor": "white",
          "plot_bgcolor": "#E5ECF6",
          "polar": {
           "angularaxis": {
            "gridcolor": "white",
            "linecolor": "white",
            "ticks": ""
           },
           "bgcolor": "#E5ECF6",
           "radialaxis": {
            "gridcolor": "white",
            "linecolor": "white",
            "ticks": ""
           }
          },
          "scene": {
           "xaxis": {
            "backgroundcolor": "#E5ECF6",
            "gridcolor": "white",
            "gridwidth": 2,
            "linecolor": "white",
            "showbackground": true,
            "ticks": "",
            "zerolinecolor": "white"
           },
           "yaxis": {
            "backgroundcolor": "#E5ECF6",
            "gridcolor": "white",
            "gridwidth": 2,
            "linecolor": "white",
            "showbackground": true,
            "ticks": "",
            "zerolinecolor": "white"
           },
           "zaxis": {
            "backgroundcolor": "#E5ECF6",
            "gridcolor": "white",
            "gridwidth": 2,
            "linecolor": "white",
            "showbackground": true,
            "ticks": "",
            "zerolinecolor": "white"
           }
          },
          "shapedefaults": {
           "line": {
            "color": "#2a3f5f"
           }
          },
          "ternary": {
           "aaxis": {
            "gridcolor": "white",
            "linecolor": "white",
            "ticks": ""
           },
           "baxis": {
            "gridcolor": "white",
            "linecolor": "white",
            "ticks": ""
           },
           "bgcolor": "#E5ECF6",
           "caxis": {
            "gridcolor": "white",
            "linecolor": "white",
            "ticks": ""
           }
          },
          "title": {
           "x": 0.05
          },
          "xaxis": {
           "automargin": true,
           "gridcolor": "white",
           "linecolor": "white",
           "ticks": "",
           "title": {
            "standoff": 15
           },
           "zerolinecolor": "white",
           "zerolinewidth": 2
          },
          "yaxis": {
           "automargin": true,
           "gridcolor": "white",
           "linecolor": "white",
           "ticks": "",
           "title": {
            "standoff": 15
           },
           "zerolinecolor": "white",
           "zerolinewidth": 2
          }
         }
        },
        "title": {
         "text": "Accidents by Hour of Day"
        },
        "xaxis": {
         "anchor": "y",
         "domain": [
          0,
          1
         ],
         "title": {
          "text": "Hour"
         }
        },
        "yaxis": {
         "anchor": "x",
         "domain": [
          0,
          1
         ],
         "title": {
          "text": "count"
         }
        }
       }
      }
     },
     "metadata": {},
     "output_type": "display_data"
    },
    {
     "data": {
      "application/vnd.plotly.v1+json": {
       "config": {
        "plotlyServerURL": "https://plot.ly"
       },
       "data": [
        {
         "alignmentgroup": "True",
         "hovertemplate": "Weather_Condition=%{x}<br>count=%{y}<extra></extra>",
         "legendgroup": "",
         "marker": {
          "color": "#636efa",
          "pattern": {
           "shape": ""
          }
         },
         "name": "",
         "offsetgroup": "",
         "orientation": "v",
         "showlegend": false,
         "textposition": "auto",
         "type": "bar",
         "x": [
          "Fair",
          "Cloudy",
          "Mostly Cloudy",
          "Partly Cloudy",
          "Light Rain",
          "Light Snow",
          "Fog",
          "Rain",
          "Haze",
          "Fair / Windy",
          "Heavy Rain",
          "Thunder in the Vicinity",
          "Cloudy / Windy",
          "Mostly Cloudy / Windy",
          "T-Storm",
          "Snow",
          "Thunder",
          "Light Drizzle",
          "Wintry Mix",
          "Light Rain with Thunder",
          "Partly Cloudy / Windy",
          "Heavy T-Storm",
          "Smoke",
          "Light Snow / Windy",
          "Light Rain / Windy",
          "Overcast",
          "Heavy Snow",
          "N/A Precipitation",
          "Drizzle",
          "Light Freezing Rain",
          "Rain / Windy",
          "Haze / Windy",
          "Shallow Fog",
          "Snow / Windy",
          "Heavy Rain / Windy",
          "Patches of Fog",
          "Blowing Snow / Windy",
          "Heavy Snow / Windy",
          "Showers in the Vicinity",
          "Mist",
          "Heavy T-Storm / Windy",
          "Fog / Windy",
          "Light Freezing Drizzle",
          "T-Storm / Windy",
          "Blowing Snow",
          "Thunder / Windy",
          "Snow and Sleet",
          "Wintry Mix / Windy",
          "Light Sleet",
          "Drizzle and Fog",
          "Blowing Dust / Windy",
          "Light Drizzle / Windy",
          "Freezing Rain",
          "Light Snow and Sleet",
          "Clear",
          "Blowing Dust",
          "Heavy Drizzle",
          "Scattered Clouds",
          "Sleet",
          "Light Rain Shower",
          "Snow and Sleet / Windy",
          "Light Ice Pellets",
          "Smoke / Windy",
          "Light Freezing Rain / Windy",
          "Small Hail",
          "Light Snow Shower",
          "Hail",
          "Light Snow and Sleet / Windy",
          "Squalls / Windy",
          "Widespread Dust",
          "Light Freezing Fog",
          "Ice Pellets",
          "Light Snow with Thunder",
          "Light Thunderstorms and Rain",
          "Heavy Sleet",
          "Sleet / Windy",
          "Freezing Drizzle",
          "Sand / Dust Whirlwinds",
          "Widespread Dust / Windy",
          "Thunder / Wintry Mix",
          "Snow and Thunder",
          "Freezing Rain / Windy",
          "Tornado",
          "Thunderstorms and Rain",
          "Heavy Thunderstorms and Rain",
          "Light Sleet / Windy",
          "Drizzle / Windy",
          "Rain Shower",
          "Thunder and Hail",
          "Squalls",
          "Thunder / Wintry Mix / Windy",
          "Shallow Fog / Windy",
          "Drifting Snow / Windy",
          "Heavy Snow with Thunder",
          "Snow Grains",
          "Patches of Fog / Windy",
          "Sleet and Thunder",
          "Light Snow Shower / Windy",
          "Partial Fog",
          "Heavy Thunderstorms and Snow",
          "Funnel Cloud",
          "Sand / Dust Whirls Nearby",
          "Heavy Freezing Drizzle",
          "Heavy Rain Shower",
          "Thunderstorm",
          "Heavy Sleet and Thunder",
          "Thunder and Hail / Windy",
          "Sand / Dust Whirlwinds / Windy",
          "Light Blowing Snow",
          "Light Rain Showers",
          "Heavy Ice Pellets",
          "Light Thunderstorms and Snow",
          "Light Rain Shower / Windy",
          "Heavy Sleet / Windy",
          "Sand / Windy",
          "Snow and Thunder / Windy",
          "Heavy Rain Shower / Windy",
          "Blowing Snow Nearby",
          "Heavy Freezing Rain",
          "Blowing Sand",
          "Drifting Snow",
          "Heavy Thunderstorms with Small Hail"
         ],
         "xaxis": "x",
         "y": [
          1697787,
          524654,
          457519,
          311743,
          164310,
          78648,
          54955,
          38659,
          34003,
          25211,
          15122,
          11984,
          11468,
          11312,
          10322,
          9841,
          9839,
          9113,
          8965,
          8646,
          7132,
          6037,
          5751,
          5496,
          5389,
          4098,
          3410,
          2418,
          1981,
          1611,
          1600,
          1425,
          1227,
          1097,
          1056,
          976,
          873,
          806,
          783,
          721,
          717,
          610,
          502,
          501,
          459,
          394,
          272,
          234,
          215,
          215,
          179,
          170,
          159,
          151,
          150,
          146,
          144,
          139,
          123,
          122,
          83,
          68,
          68,
          68,
          45,
          38,
          34,
          31,
          31,
          30,
          29,
          28,
          27,
          26,
          25,
          23,
          21,
          20,
          18,
          18,
          18,
          17,
          17,
          15,
          15,
          13,
          13,
          13,
          11,
          8,
          8,
          7,
          6,
          6,
          5,
          5,
          4,
          4,
          4,
          3,
          3,
          3,
          3,
          3,
          2,
          2,
          2,
          2,
          2,
          2,
          1,
          1,
          1,
          1,
          1,
          1,
          1,
          1,
          1,
          1,
          1,
          1
         ],
         "yaxis": "y"
        }
       ],
       "layout": {
        "barmode": "relative",
        "legend": {
         "tracegroupgap": 0
        },
        "template": {
         "data": {
          "bar": [
           {
            "error_x": {
             "color": "#2a3f5f"
            },
            "error_y": {
             "color": "#2a3f5f"
            },
            "marker": {
             "line": {
              "color": "#E5ECF6",
              "width": 0.5
             },
             "pattern": {
              "fillmode": "overlay",
              "size": 10,
              "solidity": 0.2
             }
            },
            "type": "bar"
           }
          ],
          "barpolar": [
           {
            "marker": {
             "line": {
              "color": "#E5ECF6",
              "width": 0.5
             },
             "pattern": {
              "fillmode": "overlay",
              "size": 10,
              "solidity": 0.2
             }
            },
            "type": "barpolar"
           }
          ],
          "carpet": [
           {
            "aaxis": {
             "endlinecolor": "#2a3f5f",
             "gridcolor": "white",
             "linecolor": "white",
             "minorgridcolor": "white",
             "startlinecolor": "#2a3f5f"
            },
            "baxis": {
             "endlinecolor": "#2a3f5f",
             "gridcolor": "white",
             "linecolor": "white",
             "minorgridcolor": "white",
             "startlinecolor": "#2a3f5f"
            },
            "type": "carpet"
           }
          ],
          "choropleth": [
           {
            "colorbar": {
             "outlinewidth": 0,
             "ticks": ""
            },
            "type": "choropleth"
           }
          ],
          "contour": [
           {
            "colorbar": {
             "outlinewidth": 0,
             "ticks": ""
            },
            "colorscale": [
             [
              0,
              "#0d0887"
             ],
             [
              0.1111111111111111,
              "#46039f"
             ],
             [
              0.2222222222222222,
              "#7201a8"
             ],
             [
              0.3333333333333333,
              "#9c179e"
             ],
             [
              0.4444444444444444,
              "#bd3786"
             ],
             [
              0.5555555555555556,
              "#d8576b"
             ],
             [
              0.6666666666666666,
              "#ed7953"
             ],
             [
              0.7777777777777778,
              "#fb9f3a"
             ],
             [
              0.8888888888888888,
              "#fdca26"
             ],
             [
              1,
              "#f0f921"
             ]
            ],
            "type": "contour"
           }
          ],
          "contourcarpet": [
           {
            "colorbar": {
             "outlinewidth": 0,
             "ticks": ""
            },
            "type": "contourcarpet"
           }
          ],
          "heatmap": [
           {
            "colorbar": {
             "outlinewidth": 0,
             "ticks": ""
            },
            "colorscale": [
             [
              0,
              "#0d0887"
             ],
             [
              0.1111111111111111,
              "#46039f"
             ],
             [
              0.2222222222222222,
              "#7201a8"
             ],
             [
              0.3333333333333333,
              "#9c179e"
             ],
             [
              0.4444444444444444,
              "#bd3786"
             ],
             [
              0.5555555555555556,
              "#d8576b"
             ],
             [
              0.6666666666666666,
              "#ed7953"
             ],
             [
              0.7777777777777778,
              "#fb9f3a"
             ],
             [
              0.8888888888888888,
              "#fdca26"
             ],
             [
              1,
              "#f0f921"
             ]
            ],
            "type": "heatmap"
           }
          ],
          "heatmapgl": [
           {
            "colorbar": {
             "outlinewidth": 0,
             "ticks": ""
            },
            "colorscale": [
             [
              0,
              "#0d0887"
             ],
             [
              0.1111111111111111,
              "#46039f"
             ],
             [
              0.2222222222222222,
              "#7201a8"
             ],
             [
              0.3333333333333333,
              "#9c179e"
             ],
             [
              0.4444444444444444,
              "#bd3786"
             ],
             [
              0.5555555555555556,
              "#d8576b"
             ],
             [
              0.6666666666666666,
              "#ed7953"
             ],
             [
              0.7777777777777778,
              "#fb9f3a"
             ],
             [
              0.8888888888888888,
              "#fdca26"
             ],
             [
              1,
              "#f0f921"
             ]
            ],
            "type": "heatmapgl"
           }
          ],
          "histogram": [
           {
            "marker": {
             "pattern": {
              "fillmode": "overlay",
              "size": 10,
              "solidity": 0.2
             }
            },
            "type": "histogram"
           }
          ],
          "histogram2d": [
           {
            "colorbar": {
             "outlinewidth": 0,
             "ticks": ""
            },
            "colorscale": [
             [
              0,
              "#0d0887"
             ],
             [
              0.1111111111111111,
              "#46039f"
             ],
             [
              0.2222222222222222,
              "#7201a8"
             ],
             [
              0.3333333333333333,
              "#9c179e"
             ],
             [
              0.4444444444444444,
              "#bd3786"
             ],
             [
              0.5555555555555556,
              "#d8576b"
             ],
             [
              0.6666666666666666,
              "#ed7953"
             ],
             [
              0.7777777777777778,
              "#fb9f3a"
             ],
             [
              0.8888888888888888,
              "#fdca26"
             ],
             [
              1,
              "#f0f921"
             ]
            ],
            "type": "histogram2d"
           }
          ],
          "histogram2dcontour": [
           {
            "colorbar": {
             "outlinewidth": 0,
             "ticks": ""
            },
            "colorscale": [
             [
              0,
              "#0d0887"
             ],
             [
              0.1111111111111111,
              "#46039f"
             ],
             [
              0.2222222222222222,
              "#7201a8"
             ],
             [
              0.3333333333333333,
              "#9c179e"
             ],
             [
              0.4444444444444444,
              "#bd3786"
             ],
             [
              0.5555555555555556,
              "#d8576b"
             ],
             [
              0.6666666666666666,
              "#ed7953"
             ],
             [
              0.7777777777777778,
              "#fb9f3a"
             ],
             [
              0.8888888888888888,
              "#fdca26"
             ],
             [
              1,
              "#f0f921"
             ]
            ],
            "type": "histogram2dcontour"
           }
          ],
          "mesh3d": [
           {
            "colorbar": {
             "outlinewidth": 0,
             "ticks": ""
            },
            "type": "mesh3d"
           }
          ],
          "parcoords": [
           {
            "line": {
             "colorbar": {
              "outlinewidth": 0,
              "ticks": ""
             }
            },
            "type": "parcoords"
           }
          ],
          "pie": [
           {
            "automargin": true,
            "type": "pie"
           }
          ],
          "scatter": [
           {
            "fillpattern": {
             "fillmode": "overlay",
             "size": 10,
             "solidity": 0.2
            },
            "type": "scatter"
           }
          ],
          "scatter3d": [
           {
            "line": {
             "colorbar": {
              "outlinewidth": 0,
              "ticks": ""
             }
            },
            "marker": {
             "colorbar": {
              "outlinewidth": 0,
              "ticks": ""
             }
            },
            "type": "scatter3d"
           }
          ],
          "scattercarpet": [
           {
            "marker": {
             "colorbar": {
              "outlinewidth": 0,
              "ticks": ""
             }
            },
            "type": "scattercarpet"
           }
          ],
          "scattergeo": [
           {
            "marker": {
             "colorbar": {
              "outlinewidth": 0,
              "ticks": ""
             }
            },
            "type": "scattergeo"
           }
          ],
          "scattergl": [
           {
            "marker": {
             "colorbar": {
              "outlinewidth": 0,
              "ticks": ""
             }
            },
            "type": "scattergl"
           }
          ],
          "scattermapbox": [
           {
            "marker": {
             "colorbar": {
              "outlinewidth": 0,
              "ticks": ""
             }
            },
            "type": "scattermapbox"
           }
          ],
          "scatterpolar": [
           {
            "marker": {
             "colorbar": {
              "outlinewidth": 0,
              "ticks": ""
             }
            },
            "type": "scatterpolar"
           }
          ],
          "scatterpolargl": [
           {
            "marker": {
             "colorbar": {
              "outlinewidth": 0,
              "ticks": ""
             }
            },
            "type": "scatterpolargl"
           }
          ],
          "scatterternary": [
           {
            "marker": {
             "colorbar": {
              "outlinewidth": 0,
              "ticks": ""
             }
            },
            "type": "scatterternary"
           }
          ],
          "surface": [
           {
            "colorbar": {
             "outlinewidth": 0,
             "ticks": ""
            },
            "colorscale": [
             [
              0,
              "#0d0887"
             ],
             [
              0.1111111111111111,
              "#46039f"
             ],
             [
              0.2222222222222222,
              "#7201a8"
             ],
             [
              0.3333333333333333,
              "#9c179e"
             ],
             [
              0.4444444444444444,
              "#bd3786"
             ],
             [
              0.5555555555555556,
              "#d8576b"
             ],
             [
              0.6666666666666666,
              "#ed7953"
             ],
             [
              0.7777777777777778,
              "#fb9f3a"
             ],
             [
              0.8888888888888888,
              "#fdca26"
             ],
             [
              1,
              "#f0f921"
             ]
            ],
            "type": "surface"
           }
          ],
          "table": [
           {
            "cells": {
             "fill": {
              "color": "#EBF0F8"
             },
             "line": {
              "color": "white"
             }
            },
            "header": {
             "fill": {
              "color": "#C8D4E3"
             },
             "line": {
              "color": "white"
             }
            },
            "type": "table"
           }
          ]
         },
         "layout": {
          "annotationdefaults": {
           "arrowcolor": "#2a3f5f",
           "arrowhead": 0,
           "arrowwidth": 1
          },
          "autotypenumbers": "strict",
          "coloraxis": {
           "colorbar": {
            "outlinewidth": 0,
            "ticks": ""
           }
          },
          "colorscale": {
           "diverging": [
            [
             0,
             "#8e0152"
            ],
            [
             0.1,
             "#c51b7d"
            ],
            [
             0.2,
             "#de77ae"
            ],
            [
             0.3,
             "#f1b6da"
            ],
            [
             0.4,
             "#fde0ef"
            ],
            [
             0.5,
             "#f7f7f7"
            ],
            [
             0.6,
             "#e6f5d0"
            ],
            [
             0.7,
             "#b8e186"
            ],
            [
             0.8,
             "#7fbc41"
            ],
            [
             0.9,
             "#4d9221"
            ],
            [
             1,
             "#276419"
            ]
           ],
           "sequential": [
            [
             0,
             "#0d0887"
            ],
            [
             0.1111111111111111,
             "#46039f"
            ],
            [
             0.2222222222222222,
             "#7201a8"
            ],
            [
             0.3333333333333333,
             "#9c179e"
            ],
            [
             0.4444444444444444,
             "#bd3786"
            ],
            [
             0.5555555555555556,
             "#d8576b"
            ],
            [
             0.6666666666666666,
             "#ed7953"
            ],
            [
             0.7777777777777778,
             "#fb9f3a"
            ],
            [
             0.8888888888888888,
             "#fdca26"
            ],
            [
             1,
             "#f0f921"
            ]
           ],
           "sequentialminus": [
            [
             0,
             "#0d0887"
            ],
            [
             0.1111111111111111,
             "#46039f"
            ],
            [
             0.2222222222222222,
             "#7201a8"
            ],
            [
             0.3333333333333333,
             "#9c179e"
            ],
            [
             0.4444444444444444,
             "#bd3786"
            ],
            [
             0.5555555555555556,
             "#d8576b"
            ],
            [
             0.6666666666666666,
             "#ed7953"
            ],
            [
             0.7777777777777778,
             "#fb9f3a"
            ],
            [
             0.8888888888888888,
             "#fdca26"
            ],
            [
             1,
             "#f0f921"
            ]
           ]
          },
          "colorway": [
           "#636efa",
           "#EF553B",
           "#00cc96",
           "#ab63fa",
           "#FFA15A",
           "#19d3f3",
           "#FF6692",
           "#B6E880",
           "#FF97FF",
           "#FECB52"
          ],
          "font": {
           "color": "#2a3f5f"
          },
          "geo": {
           "bgcolor": "white",
           "lakecolor": "white",
           "landcolor": "#E5ECF6",
           "showlakes": true,
           "showland": true,
           "subunitcolor": "white"
          },
          "hoverlabel": {
           "align": "left"
          },
          "hovermode": "closest",
          "mapbox": {
           "style": "light"
          },
          "paper_bgcolor": "white",
          "plot_bgcolor": "#E5ECF6",
          "polar": {
           "angularaxis": {
            "gridcolor": "white",
            "linecolor": "white",
            "ticks": ""
           },
           "bgcolor": "#E5ECF6",
           "radialaxis": {
            "gridcolor": "white",
            "linecolor": "white",
            "ticks": ""
           }
          },
          "scene": {
           "xaxis": {
            "backgroundcolor": "#E5ECF6",
            "gridcolor": "white",
            "gridwidth": 2,
            "linecolor": "white",
            "showbackground": true,
            "ticks": "",
            "zerolinecolor": "white"
           },
           "yaxis": {
            "backgroundcolor": "#E5ECF6",
            "gridcolor": "white",
            "gridwidth": 2,
            "linecolor": "white",
            "showbackground": true,
            "ticks": "",
            "zerolinecolor": "white"
           },
           "zaxis": {
            "backgroundcolor": "#E5ECF6",
            "gridcolor": "white",
            "gridwidth": 2,
            "linecolor": "white",
            "showbackground": true,
            "ticks": "",
            "zerolinecolor": "white"
           }
          },
          "shapedefaults": {
           "line": {
            "color": "#2a3f5f"
           }
          },
          "ternary": {
           "aaxis": {
            "gridcolor": "white",
            "linecolor": "white",
            "ticks": ""
           },
           "baxis": {
            "gridcolor": "white",
            "linecolor": "white",
            "ticks": ""
           },
           "bgcolor": "#E5ECF6",
           "caxis": {
            "gridcolor": "white",
            "linecolor": "white",
            "ticks": ""
           }
          },
          "title": {
           "x": 0.05
          },
          "xaxis": {
           "automargin": true,
           "gridcolor": "white",
           "linecolor": "white",
           "ticks": "",
           "title": {
            "standoff": 15
           },
           "zerolinecolor": "white",
           "zerolinewidth": 2
          },
          "yaxis": {
           "automargin": true,
           "gridcolor": "white",
           "linecolor": "white",
           "ticks": "",
           "title": {
            "standoff": 15
           },
           "zerolinecolor": "white",
           "zerolinewidth": 2
          }
         }
        },
        "title": {
         "text": "Accidents by Weather Condition"
        },
        "xaxis": {
         "anchor": "y",
         "domain": [
          0,
          1
         ],
         "title": {
          "text": "Weather_Condition"
         }
        },
        "yaxis": {
         "anchor": "x",
         "domain": [
          0,
          1
         ],
         "title": {
          "text": "count"
         }
        }
       }
      }
     },
     "metadata": {},
     "output_type": "display_data"
    },
    {
     "data": {
      "application/vnd.plotly.v1+json": {
       "config": {
        "plotlyServerURL": "https://plot.ly"
       },
       "data": [
        {
         "alignmentgroup": "True",
         "hovertemplate": "City=%{x}<br>Number of Accidents=%{y}<extra></extra>",
         "legendgroup": "",
         "marker": {
          "color": "#636efa",
          "pattern": {
           "shape": ""
          }
         },
         "name": "",
         "offsetgroup": "",
         "orientation": "v",
         "showlegend": false,
         "textposition": "auto",
         "type": "bar",
         "x": [
          "Miami",
          "Los Angeles",
          "Orlando",
          "Dallas",
          "Houston",
          "Charlotte",
          "San Diego",
          "Raleigh",
          "Sacramento",
          "Nashville",
          "Baton Rouge",
          "Minneapolis",
          "Austin",
          "New Orleans",
          "Phoenix",
          "Tucson",
          "Atlanta",
          "Portland",
          "Richmond",
          "Saint Paul",
          "Jacksonville",
          "Bakersfield",
          "Riverside",
          "Hialeah",
          "Bronx",
          "Washington",
          "Kansas City",
          "San Bernardino",
          "Chattanooga",
          "Tampa",
          "Columbia",
          "Fresno",
          "Fort Lauderdale",
          "Anaheim",
          "Ontario",
          "New York",
          "Salt Lake City",
          "Philadelphia",
          "Rochester",
          "Sarasota",
          "Brooklyn",
          "Bradenton",
          "Oakland",
          "Fort Myers",
          "Kissimmee",
          "Long Beach",
          "Greenville",
          "Shreveport",
          "Grand Rapids",
          "Whittier",
          "Denver",
          "Corona",
          "San Jose",
          "Tulsa",
          "Pensacola",
          "Seattle",
          "Fort Worth",
          "San Francisco",
          "Chicago",
          "San Antonio",
          "Detroit",
          "North Miami",
          "Indianapolis",
          "Stockton",
          "Pittsburgh",
          "Ocala",
          "Dayton",
          "Saint Petersburg",
          "Henrico",
          "Lancaster",
          "Fontana",
          "Modesto",
          "Homestead",
          "Irvine",
          "Hayward",
          "Newark",
          "Springfield",
          "Tracy",
          "Santa Ana",
          "Norfolk",
          "Fairfax",
          "Birmingham",
          "Fredericksburg",
          "Silver Spring",
          "Baldwin Park",
          "Flint",
          "Memphis",
          "York",
          "Woodbridge",
          "Colton",
          "Hollywood",
          "Virginia Beach",
          "Buffalo",
          "Frederick",
          "Sherman Oaks",
          "Alexandria",
          "Opa Locka",
          "Spartanburg",
          "North Miami Beach",
          "Rowland Heights"
         ],
         "xaxis": "x",
         "y": [
          142511,
          79444,
          74874,
          49621,
          46071,
          40060,
          32473,
          31430,
          28421,
          28383,
          26963,
          26649,
          24675,
          22323,
          21403,
          21094,
          20650,
          19994,
          19821,
          19233,
          17608,
          15884,
          15180,
          14481,
          14252,
          13494,
          13464,
          13390,
          12417,
          12231,
          11980,
          11942,
          11628,
          11587,
          11445,
          11203,
          11156,
          10447,
          10315,
          10243,
          10228,
          10139,
          10091,
          10060,
          10053,
          9993,
          9789,
          9382,
          9345,
          9186,
          8992,
          8906,
          8410,
          8399,
          8245,
          8205,
          7914,
          7861,
          7811,
          7804,
          7775,
          7601,
          7494,
          7179,
          6460,
          6448,
          6398,
          6330,
          5952,
          5914,
          5852,
          5840,
          5817,
          5625,
          5616,
          5556,
          5527,
          5421,
          5392,
          5360,
          5263,
          5261,
          5239,
          5135,
          5099,
          5029,
          4904,
          4795,
          4687,
          4672,
          4655,
          4653,
          4599,
          4567,
          4560,
          4512,
          4504,
          4420,
          4377,
          4340
         ],
         "yaxis": "y"
        }
       ],
       "layout": {
        "barmode": "relative",
        "legend": {
         "tracegroupgap": 0
        },
        "template": {
         "data": {
          "bar": [
           {
            "error_x": {
             "color": "#2a3f5f"
            },
            "error_y": {
             "color": "#2a3f5f"
            },
            "marker": {
             "line": {
              "color": "#E5ECF6",
              "width": 0.5
             },
             "pattern": {
              "fillmode": "overlay",
              "size": 10,
              "solidity": 0.2
             }
            },
            "type": "bar"
           }
          ],
          "barpolar": [
           {
            "marker": {
             "line": {
              "color": "#E5ECF6",
              "width": 0.5
             },
             "pattern": {
              "fillmode": "overlay",
              "size": 10,
              "solidity": 0.2
             }
            },
            "type": "barpolar"
           }
          ],
          "carpet": [
           {
            "aaxis": {
             "endlinecolor": "#2a3f5f",
             "gridcolor": "white",
             "linecolor": "white",
             "minorgridcolor": "white",
             "startlinecolor": "#2a3f5f"
            },
            "baxis": {
             "endlinecolor": "#2a3f5f",
             "gridcolor": "white",
             "linecolor": "white",
             "minorgridcolor": "white",
             "startlinecolor": "#2a3f5f"
            },
            "type": "carpet"
           }
          ],
          "choropleth": [
           {
            "colorbar": {
             "outlinewidth": 0,
             "ticks": ""
            },
            "type": "choropleth"
           }
          ],
          "contour": [
           {
            "colorbar": {
             "outlinewidth": 0,
             "ticks": ""
            },
            "colorscale": [
             [
              0,
              "#0d0887"
             ],
             [
              0.1111111111111111,
              "#46039f"
             ],
             [
              0.2222222222222222,
              "#7201a8"
             ],
             [
              0.3333333333333333,
              "#9c179e"
             ],
             [
              0.4444444444444444,
              "#bd3786"
             ],
             [
              0.5555555555555556,
              "#d8576b"
             ],
             [
              0.6666666666666666,
              "#ed7953"
             ],
             [
              0.7777777777777778,
              "#fb9f3a"
             ],
             [
              0.8888888888888888,
              "#fdca26"
             ],
             [
              1,
              "#f0f921"
             ]
            ],
            "type": "contour"
           }
          ],
          "contourcarpet": [
           {
            "colorbar": {
             "outlinewidth": 0,
             "ticks": ""
            },
            "type": "contourcarpet"
           }
          ],
          "heatmap": [
           {
            "colorbar": {
             "outlinewidth": 0,
             "ticks": ""
            },
            "colorscale": [
             [
              0,
              "#0d0887"
             ],
             [
              0.1111111111111111,
              "#46039f"
             ],
             [
              0.2222222222222222,
              "#7201a8"
             ],
             [
              0.3333333333333333,
              "#9c179e"
             ],
             [
              0.4444444444444444,
              "#bd3786"
             ],
             [
              0.5555555555555556,
              "#d8576b"
             ],
             [
              0.6666666666666666,
              "#ed7953"
             ],
             [
              0.7777777777777778,
              "#fb9f3a"
             ],
             [
              0.8888888888888888,
              "#fdca26"
             ],
             [
              1,
              "#f0f921"
             ]
            ],
            "type": "heatmap"
           }
          ],
          "heatmapgl": [
           {
            "colorbar": {
             "outlinewidth": 0,
             "ticks": ""
            },
            "colorscale": [
             [
              0,
              "#0d0887"
             ],
             [
              0.1111111111111111,
              "#46039f"
             ],
             [
              0.2222222222222222,
              "#7201a8"
             ],
             [
              0.3333333333333333,
              "#9c179e"
             ],
             [
              0.4444444444444444,
              "#bd3786"
             ],
             [
              0.5555555555555556,
              "#d8576b"
             ],
             [
              0.6666666666666666,
              "#ed7953"
             ],
             [
              0.7777777777777778,
              "#fb9f3a"
             ],
             [
              0.8888888888888888,
              "#fdca26"
             ],
             [
              1,
              "#f0f921"
             ]
            ],
            "type": "heatmapgl"
           }
          ],
          "histogram": [
           {
            "marker": {
             "pattern": {
              "fillmode": "overlay",
              "size": 10,
              "solidity": 0.2
             }
            },
            "type": "histogram"
           }
          ],
          "histogram2d": [
           {
            "colorbar": {
             "outlinewidth": 0,
             "ticks": ""
            },
            "colorscale": [
             [
              0,
              "#0d0887"
             ],
             [
              0.1111111111111111,
              "#46039f"
             ],
             [
              0.2222222222222222,
              "#7201a8"
             ],
             [
              0.3333333333333333,
              "#9c179e"
             ],
             [
              0.4444444444444444,
              "#bd3786"
             ],
             [
              0.5555555555555556,
              "#d8576b"
             ],
             [
              0.6666666666666666,
              "#ed7953"
             ],
             [
              0.7777777777777778,
              "#fb9f3a"
             ],
             [
              0.8888888888888888,
              "#fdca26"
             ],
             [
              1,
              "#f0f921"
             ]
            ],
            "type": "histogram2d"
           }
          ],
          "histogram2dcontour": [
           {
            "colorbar": {
             "outlinewidth": 0,
             "ticks": ""
            },
            "colorscale": [
             [
              0,
              "#0d0887"
             ],
             [
              0.1111111111111111,
              "#46039f"
             ],
             [
              0.2222222222222222,
              "#7201a8"
             ],
             [
              0.3333333333333333,
              "#9c179e"
             ],
             [
              0.4444444444444444,
              "#bd3786"
             ],
             [
              0.5555555555555556,
              "#d8576b"
             ],
             [
              0.6666666666666666,
              "#ed7953"
             ],
             [
              0.7777777777777778,
              "#fb9f3a"
             ],
             [
              0.8888888888888888,
              "#fdca26"
             ],
             [
              1,
              "#f0f921"
             ]
            ],
            "type": "histogram2dcontour"
           }
          ],
          "mesh3d": [
           {
            "colorbar": {
             "outlinewidth": 0,
             "ticks": ""
            },
            "type": "mesh3d"
           }
          ],
          "parcoords": [
           {
            "line": {
             "colorbar": {
              "outlinewidth": 0,
              "ticks": ""
             }
            },
            "type": "parcoords"
           }
          ],
          "pie": [
           {
            "automargin": true,
            "type": "pie"
           }
          ],
          "scatter": [
           {
            "fillpattern": {
             "fillmode": "overlay",
             "size": 10,
             "solidity": 0.2
            },
            "type": "scatter"
           }
          ],
          "scatter3d": [
           {
            "line": {
             "colorbar": {
              "outlinewidth": 0,
              "ticks": ""
             }
            },
            "marker": {
             "colorbar": {
              "outlinewidth": 0,
              "ticks": ""
             }
            },
            "type": "scatter3d"
           }
          ],
          "scattercarpet": [
           {
            "marker": {
             "colorbar": {
              "outlinewidth": 0,
              "ticks": ""
             }
            },
            "type": "scattercarpet"
           }
          ],
          "scattergeo": [
           {
            "marker": {
             "colorbar": {
              "outlinewidth": 0,
              "ticks": ""
             }
            },
            "type": "scattergeo"
           }
          ],
          "scattergl": [
           {
            "marker": {
             "colorbar": {
              "outlinewidth": 0,
              "ticks": ""
             }
            },
            "type": "scattergl"
           }
          ],
          "scattermapbox": [
           {
            "marker": {
             "colorbar": {
              "outlinewidth": 0,
              "ticks": ""
             }
            },
            "type": "scattermapbox"
           }
          ],
          "scatterpolar": [
           {
            "marker": {
             "colorbar": {
              "outlinewidth": 0,
              "ticks": ""
             }
            },
            "type": "scatterpolar"
           }
          ],
          "scatterpolargl": [
           {
            "marker": {
             "colorbar": {
              "outlinewidth": 0,
              "ticks": ""
             }
            },
            "type": "scatterpolargl"
           }
          ],
          "scatterternary": [
           {
            "marker": {
             "colorbar": {
              "outlinewidth": 0,
              "ticks": ""
             }
            },
            "type": "scatterternary"
           }
          ],
          "surface": [
           {
            "colorbar": {
             "outlinewidth": 0,
             "ticks": ""
            },
            "colorscale": [
             [
              0,
              "#0d0887"
             ],
             [
              0.1111111111111111,
              "#46039f"
             ],
             [
              0.2222222222222222,
              "#7201a8"
             ],
             [
              0.3333333333333333,
              "#9c179e"
             ],
             [
              0.4444444444444444,
              "#bd3786"
             ],
             [
              0.5555555555555556,
              "#d8576b"
             ],
             [
              0.6666666666666666,
              "#ed7953"
             ],
             [
              0.7777777777777778,
              "#fb9f3a"
             ],
             [
              0.8888888888888888,
              "#fdca26"
             ],
             [
              1,
              "#f0f921"
             ]
            ],
            "type": "surface"
           }
          ],
          "table": [
           {
            "cells": {
             "fill": {
              "color": "#EBF0F8"
             },
             "line": {
              "color": "white"
             }
            },
            "header": {
             "fill": {
              "color": "#C8D4E3"
             },
             "line": {
              "color": "white"
             }
            },
            "type": "table"
           }
          ]
         },
         "layout": {
          "annotationdefaults": {
           "arrowcolor": "#2a3f5f",
           "arrowhead": 0,
           "arrowwidth": 1
          },
          "autotypenumbers": "strict",
          "coloraxis": {
           "colorbar": {
            "outlinewidth": 0,
            "ticks": ""
           }
          },
          "colorscale": {
           "diverging": [
            [
             0,
             "#8e0152"
            ],
            [
             0.1,
             "#c51b7d"
            ],
            [
             0.2,
             "#de77ae"
            ],
            [
             0.3,
             "#f1b6da"
            ],
            [
             0.4,
             "#fde0ef"
            ],
            [
             0.5,
             "#f7f7f7"
            ],
            [
             0.6,
             "#e6f5d0"
            ],
            [
             0.7,
             "#b8e186"
            ],
            [
             0.8,
             "#7fbc41"
            ],
            [
             0.9,
             "#4d9221"
            ],
            [
             1,
             "#276419"
            ]
           ],
           "sequential": [
            [
             0,
             "#0d0887"
            ],
            [
             0.1111111111111111,
             "#46039f"
            ],
            [
             0.2222222222222222,
             "#7201a8"
            ],
            [
             0.3333333333333333,
             "#9c179e"
            ],
            [
             0.4444444444444444,
             "#bd3786"
            ],
            [
             0.5555555555555556,
             "#d8576b"
            ],
            [
             0.6666666666666666,
             "#ed7953"
            ],
            [
             0.7777777777777778,
             "#fb9f3a"
            ],
            [
             0.8888888888888888,
             "#fdca26"
            ],
            [
             1,
             "#f0f921"
            ]
           ],
           "sequentialminus": [
            [
             0,
             "#0d0887"
            ],
            [
             0.1111111111111111,
             "#46039f"
            ],
            [
             0.2222222222222222,
             "#7201a8"
            ],
            [
             0.3333333333333333,
             "#9c179e"
            ],
            [
             0.4444444444444444,
             "#bd3786"
            ],
            [
             0.5555555555555556,
             "#d8576b"
            ],
            [
             0.6666666666666666,
             "#ed7953"
            ],
            [
             0.7777777777777778,
             "#fb9f3a"
            ],
            [
             0.8888888888888888,
             "#fdca26"
            ],
            [
             1,
             "#f0f921"
            ]
           ]
          },
          "colorway": [
           "#636efa",
           "#EF553B",
           "#00cc96",
           "#ab63fa",
           "#FFA15A",
           "#19d3f3",
           "#FF6692",
           "#B6E880",
           "#FF97FF",
           "#FECB52"
          ],
          "font": {
           "color": "#2a3f5f"
          },
          "geo": {
           "bgcolor": "white",
           "lakecolor": "white",
           "landcolor": "#E5ECF6",
           "showlakes": true,
           "showland": true,
           "subunitcolor": "white"
          },
          "hoverlabel": {
           "align": "left"
          },
          "hovermode": "closest",
          "mapbox": {
           "style": "light"
          },
          "paper_bgcolor": "white",
          "plot_bgcolor": "#E5ECF6",
          "polar": {
           "angularaxis": {
            "gridcolor": "white",
            "linecolor": "white",
            "ticks": ""
           },
           "bgcolor": "#E5ECF6",
           "radialaxis": {
            "gridcolor": "white",
            "linecolor": "white",
            "ticks": ""
           }
          },
          "scene": {
           "xaxis": {
            "backgroundcolor": "#E5ECF6",
            "gridcolor": "white",
            "gridwidth": 2,
            "linecolor": "white",
            "showbackground": true,
            "ticks": "",
            "zerolinecolor": "white"
           },
           "yaxis": {
            "backgroundcolor": "#E5ECF6",
            "gridcolor": "white",
            "gridwidth": 2,
            "linecolor": "white",
            "showbackground": true,
            "ticks": "",
            "zerolinecolor": "white"
           },
           "zaxis": {
            "backgroundcolor": "#E5ECF6",
            "gridcolor": "white",
            "gridwidth": 2,
            "linecolor": "white",
            "showbackground": true,
            "ticks": "",
            "zerolinecolor": "white"
           }
          },
          "shapedefaults": {
           "line": {
            "color": "#2a3f5f"
           }
          },
          "ternary": {
           "aaxis": {
            "gridcolor": "white",
            "linecolor": "white",
            "ticks": ""
           },
           "baxis": {
            "gridcolor": "white",
            "linecolor": "white",
            "ticks": ""
           },
           "bgcolor": "#E5ECF6",
           "caxis": {
            "gridcolor": "white",
            "linecolor": "white",
            "ticks": ""
           }
          },
          "title": {
           "x": 0.05
          },
          "xaxis": {
           "automargin": true,
           "gridcolor": "white",
           "linecolor": "white",
           "ticks": "",
           "title": {
            "standoff": 15
           },
           "zerolinecolor": "white",
           "zerolinewidth": 2
          },
          "yaxis": {
           "automargin": true,
           "gridcolor": "white",
           "linecolor": "white",
           "ticks": "",
           "title": {
            "standoff": 15
           },
           "zerolinecolor": "white",
           "zerolinewidth": 2
          }
         }
        },
        "title": {
         "text": "Accident Hotspots by City"
        },
        "xaxis": {
         "anchor": "y",
         "domain": [
          0,
          1
         ],
         "title": {
          "text": "City"
         }
        },
        "yaxis": {
         "anchor": "x",
         "domain": [
          0,
          1
         ],
         "title": {
          "text": "Number of Accidents"
         }
        }
       }
      }
     },
     "metadata": {},
     "output_type": "display_data"
    }
   ],
   "source": [
    "import plotly.express as px\n",
    "\n",
    "# Plot accidents by hour\n",
    "fig_hour = px.bar(accidents_by_hour_pd, x='Hour', y='count', title='Accidents by Hour of Day')\n",
    "fig_hour.show()\n",
    "\n",
    "# Plot accidents by weather condition\n",
    "fig_weather = px.bar(accidents_by_weather_pd, x='Weather_Condition', y='count', title='Accidents by Weather Condition')\n",
    "fig_weather.show()\n",
    "\n",
    "# Plot accident hotspots by city\n",
    "fig_city = px.bar(accidents_by_city_pd, x='City', y='count', title='Accident Hotspots by City', labels={'count': 'Number of Accidents'})\n",
    "fig_city.show()\n",
    "\n",
    "\n"
   ]
  },
  {
   "cell_type": "code",
   "execution_count": 14,
   "metadata": {},
   "outputs": [],
   "source": [
    "accidents_by_city = df_filtered.groupBy('City', 'State', 'Start_Lat', 'Start_Lng').count().orderBy(F.desc('count'))"
   ]
  },
  {
   "cell_type": "code",
   "execution_count": 15,
   "metadata": {},
   "outputs": [
    {
     "name": "stderr",
     "output_type": "stream",
     "text": [
      "                                                                                \r"
     ]
    }
   ],
   "source": [
    "# Convert to Pandas DataFrame\n",
    "accidents_by_city_pd = accidents_by_city.limit(1000).toPandas()  # Limit to top 1000 locations for visualization\n"
   ]
  },
  {
   "cell_type": "code",
   "execution_count": 16,
   "metadata": {},
   "outputs": [
    {
     "data": {
      "application/vnd.plotly.v1+json": {
       "config": {
        "plotlyServerURL": "https://plot.ly"
       },
       "data": [
        {
         "customdata": [
          [
           "FL"
          ],
          [
           "FL"
          ],
          [
           "FL"
          ],
          [
           "FL"
          ],
          [
           "FL"
          ],
          [
           "FL"
          ],
          [
           "GA"
          ],
          [
           "FL"
          ],
          [
           "FL"
          ],
          [
           "FL"
          ],
          [
           "VA"
          ],
          [
           "FL"
          ],
          [
           "FL"
          ],
          [
           "NY"
          ],
          [
           "CA"
          ],
          [
           "FL"
          ],
          [
           "FL"
          ],
          [
           "FL"
          ],
          [
           "FL"
          ],
          [
           "FL"
          ],
          [
           "FL"
          ],
          [
           "FL"
          ],
          [
           "NC"
          ],
          [
           "FL"
          ],
          [
           "FL"
          ],
          [
           "FL"
          ],
          [
           "NY"
          ],
          [
           "DC"
          ],
          [
           "FL"
          ],
          [
           "TN"
          ],
          [
           "FL"
          ],
          [
           "FL"
          ],
          [
           "FL"
          ],
          [
           "FL"
          ],
          [
           "FL"
          ],
          [
           "CA"
          ],
          [
           "CA"
          ],
          [
           "FL"
          ],
          [
           "FL"
          ],
          [
           "FL"
          ],
          [
           "MD"
          ],
          [
           "PA"
          ],
          [
           "FL"
          ],
          [
           "LA"
          ],
          [
           "FL"
          ],
          [
           "FL"
          ],
          [
           "FL"
          ],
          [
           "CA"
          ],
          [
           "FL"
          ],
          [
           "CA"
          ],
          [
           "FL"
          ],
          [
           "NJ"
          ],
          [
           "TN"
          ],
          [
           "TN"
          ],
          [
           "FL"
          ],
          [
           "FL"
          ],
          [
           "FL"
          ],
          [
           "TN"
          ],
          [
           "FL"
          ],
          [
           "FL"
          ],
          [
           "NY"
          ],
          [
           "NC"
          ],
          [
           "FL"
          ],
          [
           "FL"
          ],
          [
           "FL"
          ],
          [
           "FL"
          ],
          [
           "CA"
          ],
          [
           "CA"
          ],
          [
           "CA"
          ],
          [
           "FL"
          ],
          [
           "NY"
          ],
          [
           "FL"
          ],
          [
           "FL"
          ],
          [
           "FL"
          ],
          [
           "FL"
          ],
          [
           "FL"
          ],
          [
           "FL"
          ],
          [
           "FL"
          ],
          [
           "FL"
          ],
          [
           "FL"
          ],
          [
           "CA"
          ],
          [
           "FL"
          ],
          [
           "FL"
          ],
          [
           "FL"
          ],
          [
           "FL"
          ],
          [
           "FL"
          ],
          [
           "FL"
          ],
          [
           "FL"
          ],
          [
           "FL"
          ],
          [
           "NC"
          ],
          [
           "FL"
          ],
          [
           "NC"
          ],
          [
           "FL"
          ],
          [
           "FL"
          ],
          [
           "FL"
          ],
          [
           "FL"
          ],
          [
           "NC"
          ],
          [
           "FL"
          ],
          [
           "NC"
          ],
          [
           "FL"
          ],
          [
           "FL"
          ],
          [
           "VA"
          ],
          [
           "FL"
          ],
          [
           "FL"
          ],
          [
           "FL"
          ],
          [
           "FL"
          ],
          [
           "CA"
          ],
          [
           "NY"
          ],
          [
           "FL"
          ],
          [
           "FL"
          ],
          [
           "TN"
          ],
          [
           "CA"
          ],
          [
           "TN"
          ],
          [
           "MI"
          ],
          [
           "FL"
          ],
          [
           "FL"
          ],
          [
           "CA"
          ],
          [
           "FL"
          ],
          [
           "FL"
          ],
          [
           "NJ"
          ],
          [
           "FL"
          ],
          [
           "CA"
          ],
          [
           "FL"
          ],
          [
           "FL"
          ],
          [
           "FL"
          ],
          [
           "FL"
          ],
          [
           "FL"
          ],
          [
           "FL"
          ],
          [
           "FL"
          ],
          [
           "FL"
          ],
          [
           "FL"
          ],
          [
           "FL"
          ],
          [
           "FL"
          ],
          [
           "NC"
          ],
          [
           "FL"
          ],
          [
           "FL"
          ],
          [
           "FL"
          ],
          [
           "FL"
          ],
          [
           "NC"
          ],
          [
           "FL"
          ],
          [
           "FL"
          ],
          [
           "NY"
          ],
          [
           "FL"
          ],
          [
           "FL"
          ],
          [
           "CA"
          ],
          [
           "FL"
          ],
          [
           "NC"
          ],
          [
           "FL"
          ],
          [
           "FL"
          ],
          [
           "FL"
          ],
          [
           "FL"
          ],
          [
           "CA"
          ],
          [
           "FL"
          ],
          [
           "FL"
          ],
          [
           "FL"
          ],
          [
           "FL"
          ],
          [
           "FL"
          ],
          [
           "CA"
          ],
          [
           "FL"
          ],
          [
           "FL"
          ],
          [
           "NC"
          ],
          [
           "FL"
          ],
          [
           "FL"
          ],
          [
           "FL"
          ],
          [
           "FL"
          ],
          [
           "CA"
          ],
          [
           "VA"
          ],
          [
           "FL"
          ],
          [
           "FL"
          ],
          [
           "FL"
          ],
          [
           "FL"
          ],
          [
           "FL"
          ],
          [
           "FL"
          ],
          [
           "FL"
          ],
          [
           "FL"
          ],
          [
           "FL"
          ],
          [
           "FL"
          ],
          [
           "CA"
          ],
          [
           "CA"
          ],
          [
           "FL"
          ],
          [
           "FL"
          ],
          [
           "CA"
          ],
          [
           "FL"
          ],
          [
           "FL"
          ],
          [
           "CA"
          ],
          [
           "FL"
          ],
          [
           "FL"
          ],
          [
           "FL"
          ],
          [
           "FL"
          ],
          [
           "VA"
          ],
          [
           "FL"
          ],
          [
           "CA"
          ],
          [
           "FL"
          ],
          [
           "NY"
          ],
          [
           "FL"
          ],
          [
           "TN"
          ],
          [
           "FL"
          ],
          [
           "OR"
          ],
          [
           "FL"
          ],
          [
           "NC"
          ],
          [
           "CA"
          ],
          [
           "FL"
          ],
          [
           "FL"
          ],
          [
           "FL"
          ],
          [
           "FL"
          ],
          [
           "VA"
          ],
          [
           "CA"
          ],
          [
           "FL"
          ],
          [
           "CA"
          ],
          [
           "FL"
          ],
          [
           "FL"
          ],
          [
           "FL"
          ],
          [
           "NC"
          ],
          [
           "FL"
          ],
          [
           "FL"
          ],
          [
           "FL"
          ],
          [
           "FL"
          ],
          [
           "VA"
          ],
          [
           "CA"
          ],
          [
           "FL"
          ],
          [
           "FL"
          ],
          [
           "NC"
          ],
          [
           "FL"
          ],
          [
           "FL"
          ],
          [
           "FL"
          ],
          [
           "FL"
          ],
          [
           "FL"
          ],
          [
           "FL"
          ],
          [
           "NY"
          ],
          [
           "VA"
          ],
          [
           "NC"
          ],
          [
           "FL"
          ],
          [
           "FL"
          ],
          [
           "CA"
          ],
          [
           "FL"
          ],
          [
           "OR"
          ],
          [
           "FL"
          ],
          [
           "FL"
          ],
          [
           "FL"
          ],
          [
           "FL"
          ],
          [
           "NC"
          ],
          [
           "FL"
          ],
          [
           "FL"
          ],
          [
           "FL"
          ],
          [
           "FL"
          ],
          [
           "CA"
          ],
          [
           "FL"
          ],
          [
           "CA"
          ],
          [
           "FL"
          ],
          [
           "FL"
          ],
          [
           "FL"
          ],
          [
           "FL"
          ],
          [
           "LA"
          ],
          [
           "FL"
          ],
          [
           "FL"
          ],
          [
           "FL"
          ],
          [
           "FL"
          ],
          [
           "FL"
          ],
          [
           "CA"
          ],
          [
           "FL"
          ],
          [
           "FL"
          ],
          [
           "FL"
          ],
          [
           "CA"
          ],
          [
           "CA"
          ],
          [
           "FL"
          ],
          [
           "OR"
          ],
          [
           "FL"
          ],
          [
           "FL"
          ],
          [
           "FL"
          ],
          [
           "OR"
          ],
          [
           "FL"
          ],
          [
           "FL"
          ],
          [
           "FL"
          ],
          [
           "CA"
          ],
          [
           "CA"
          ],
          [
           "CA"
          ],
          [
           "FL"
          ],
          [
           "TN"
          ],
          [
           "FL"
          ],
          [
           "FL"
          ],
          [
           "FL"
          ],
          [
           "CA"
          ],
          [
           "FL"
          ],
          [
           "FL"
          ],
          [
           "CA"
          ],
          [
           "FL"
          ],
          [
           "CA"
          ],
          [
           "CA"
          ],
          [
           "CA"
          ],
          [
           "CA"
          ],
          [
           "FL"
          ],
          [
           "FL"
          ],
          [
           "FL"
          ],
          [
           "NC"
          ],
          [
           "FL"
          ],
          [
           "FL"
          ],
          [
           "FL"
          ],
          [
           "NJ"
          ],
          [
           "FL"
          ],
          [
           "FL"
          ],
          [
           "TX"
          ],
          [
           "FL"
          ],
          [
           "TN"
          ],
          [
           "FL"
          ],
          [
           "FL"
          ],
          [
           "FL"
          ],
          [
           "FL"
          ],
          [
           "CA"
          ],
          [
           "LA"
          ],
          [
           "FL"
          ],
          [
           "FL"
          ],
          [
           "FL"
          ],
          [
           "CA"
          ],
          [
           "FL"
          ],
          [
           "FL"
          ],
          [
           "FL"
          ],
          [
           "TN"
          ],
          [
           "FL"
          ],
          [
           "NY"
          ],
          [
           "FL"
          ],
          [
           "NC"
          ],
          [
           "FL"
          ],
          [
           "FL"
          ],
          [
           "FL"
          ],
          [
           "FL"
          ],
          [
           "VA"
          ],
          [
           "CA"
          ],
          [
           "FL"
          ],
          [
           "VA"
          ],
          [
           "FL"
          ],
          [
           "CA"
          ],
          [
           "FL"
          ],
          [
           "FL"
          ],
          [
           "FL"
          ],
          [
           "FL"
          ],
          [
           "FL"
          ],
          [
           "FL"
          ],
          [
           "NC"
          ],
          [
           "FL"
          ],
          [
           "FL"
          ],
          [
           "CA"
          ],
          [
           "LA"
          ],
          [
           "FL"
          ],
          [
           "FL"
          ],
          [
           "FL"
          ],
          [
           "FL"
          ],
          [
           "CA"
          ],
          [
           "FL"
          ],
          [
           "CA"
          ],
          [
           "FL"
          ],
          [
           "FL"
          ],
          [
           "TN"
          ],
          [
           "MO"
          ],
          [
           "TN"
          ],
          [
           "VA"
          ],
          [
           "FL"
          ],
          [
           "FL"
          ],
          [
           "CA"
          ],
          [
           "DC"
          ],
          [
           "FL"
          ],
          [
           "FL"
          ],
          [
           "FL"
          ],
          [
           "FL"
          ],
          [
           "FL"
          ],
          [
           "FL"
          ],
          [
           "FL"
          ],
          [
           "FL"
          ],
          [
           "FL"
          ],
          [
           "FL"
          ],
          [
           "FL"
          ],
          [
           "NC"
          ],
          [
           "FL"
          ],
          [
           "LA"
          ],
          [
           "FL"
          ],
          [
           "CA"
          ],
          [
           "FL"
          ],
          [
           "CA"
          ],
          [
           "FL"
          ],
          [
           "FL"
          ],
          [
           "MT"
          ],
          [
           "FL"
          ],
          [
           "NC"
          ],
          [
           "FL"
          ],
          [
           "FL"
          ],
          [
           "FL"
          ],
          [
           "CA"
          ],
          [
           "FL"
          ],
          [
           "FL"
          ],
          [
           "FL"
          ],
          [
           "FL"
          ],
          [
           "CA"
          ],
          [
           "VA"
          ],
          [
           "FL"
          ],
          [
           "FL"
          ],
          [
           "FL"
          ],
          [
           "CA"
          ],
          [
           "CA"
          ],
          [
           "FL"
          ],
          [
           "NC"
          ],
          [
           "CA"
          ],
          [
           "FL"
          ],
          [
           "NJ"
          ],
          [
           "CA"
          ],
          [
           "FL"
          ],
          [
           "NC"
          ],
          [
           "FL"
          ],
          [
           "FL"
          ],
          [
           "CA"
          ],
          [
           "FL"
          ],
          [
           "FL"
          ],
          [
           "NC"
          ],
          [
           "FL"
          ],
          [
           "LA"
          ],
          [
           "FL"
          ],
          [
           "PA"
          ],
          [
           "SC"
          ],
          [
           "FL"
          ],
          [
           "AZ"
          ],
          [
           "FL"
          ],
          [
           "FL"
          ],
          [
           "CA"
          ],
          [
           "CA"
          ],
          [
           "NC"
          ],
          [
           "GA"
          ],
          [
           "FL"
          ],
          [
           "FL"
          ],
          [
           "NJ"
          ],
          [
           "FL"
          ],
          [
           "OR"
          ],
          [
           "CA"
          ],
          [
           "FL"
          ],
          [
           "FL"
          ],
          [
           "FL"
          ],
          [
           "FL"
          ],
          [
           "FL"
          ],
          [
           "FL"
          ],
          [
           "FL"
          ],
          [
           "FL"
          ],
          [
           "FL"
          ],
          [
           "FL"
          ],
          [
           "FL"
          ],
          [
           "FL"
          ],
          [
           "FL"
          ],
          [
           "FL"
          ],
          [
           "NC"
          ],
          [
           "CA"
          ],
          [
           "FL"
          ],
          [
           "OR"
          ],
          [
           "VA"
          ],
          [
           "TX"
          ],
          [
           "FL"
          ],
          [
           "FL"
          ],
          [
           "NC"
          ],
          [
           "TX"
          ],
          [
           "FL"
          ],
          [
           "VA"
          ],
          [
           "FL"
          ],
          [
           "MD"
          ],
          [
           "FL"
          ],
          [
           "FL"
          ],
          [
           "FL"
          ],
          [
           "FL"
          ],
          [
           "FL"
          ],
          [
           "FL"
          ],
          [
           "CA"
          ],
          [
           "FL"
          ],
          [
           "VA"
          ],
          [
           "FL"
          ],
          [
           "FL"
          ],
          [
           "CA"
          ],
          [
           "FL"
          ],
          [
           "FL"
          ],
          [
           "FL"
          ],
          [
           "CA"
          ],
          [
           "CA"
          ],
          [
           "FL"
          ],
          [
           "FL"
          ],
          [
           "FL"
          ],
          [
           "FL"
          ],
          [
           "FL"
          ],
          [
           "CA"
          ],
          [
           "FL"
          ],
          [
           "CA"
          ],
          [
           "FL"
          ],
          [
           "SC"
          ],
          [
           "FL"
          ],
          [
           "FL"
          ],
          [
           "FL"
          ],
          [
           "FL"
          ],
          [
           "FL"
          ],
          [
           "FL"
          ],
          [
           "WA"
          ],
          [
           "CA"
          ],
          [
           "FL"
          ],
          [
           "LA"
          ],
          [
           "FL"
          ],
          [
           "FL"
          ],
          [
           "FL"
          ],
          [
           "FL"
          ],
          [
           "FL"
          ],
          [
           "VA"
          ],
          [
           "FL"
          ],
          [
           "FL"
          ],
          [
           "FL"
          ],
          [
           "FL"
          ],
          [
           "CA"
          ],
          [
           "TN"
          ],
          [
           "FL"
          ],
          [
           "CA"
          ],
          [
           "FL"
          ],
          [
           "NY"
          ],
          [
           "FL"
          ],
          [
           "FL"
          ],
          [
           "FL"
          ],
          [
           "FL"
          ],
          [
           "FL"
          ],
          [
           "FL"
          ],
          [
           "FL"
          ],
          [
           "NV"
          ],
          [
           "FL"
          ],
          [
           "VA"
          ],
          [
           "TN"
          ],
          [
           "FL"
          ],
          [
           "FL"
          ],
          [
           "FL"
          ],
          [
           "VA"
          ],
          [
           "FL"
          ],
          [
           "FL"
          ],
          [
           "FL"
          ],
          [
           "CA"
          ],
          [
           "VA"
          ],
          [
           "FL"
          ],
          [
           "CA"
          ],
          [
           "FL"
          ],
          [
           "FL"
          ],
          [
           "FL"
          ],
          [
           "FL"
          ],
          [
           "FL"
          ],
          [
           "FL"
          ],
          [
           "CA"
          ],
          [
           "NC"
          ],
          [
           "CA"
          ],
          [
           "CA"
          ],
          [
           "FL"
          ],
          [
           "FL"
          ],
          [
           "FL"
          ],
          [
           "FL"
          ],
          [
           "CA"
          ],
          [
           "FL"
          ],
          [
           "FL"
          ],
          [
           "NC"
          ],
          [
           "CA"
          ],
          [
           "FL"
          ],
          [
           "FL"
          ],
          [
           "FL"
          ],
          [
           "VA"
          ],
          [
           "FL"
          ],
          [
           "FL"
          ],
          [
           "FL"
          ],
          [
           "FL"
          ],
          [
           "FL"
          ],
          [
           "FL"
          ],
          [
           "FL"
          ],
          [
           "CA"
          ],
          [
           "NC"
          ],
          [
           "LA"
          ],
          [
           "NY"
          ],
          [
           "TX"
          ],
          [
           "FL"
          ],
          [
           "CA"
          ],
          [
           "VA"
          ],
          [
           "TN"
          ],
          [
           "FL"
          ],
          [
           "VA"
          ],
          [
           "CA"
          ],
          [
           "CA"
          ],
          [
           "FL"
          ],
          [
           "FL"
          ],
          [
           "FL"
          ],
          [
           "FL"
          ],
          [
           "FL"
          ],
          [
           "VA"
          ],
          [
           "FL"
          ],
          [
           "FL"
          ],
          [
           "CA"
          ],
          [
           "CA"
          ],
          [
           "FL"
          ],
          [
           "FL"
          ],
          [
           "CA"
          ],
          [
           "FL"
          ],
          [
           "FL"
          ],
          [
           "FL"
          ],
          [
           "CA"
          ],
          [
           "FL"
          ],
          [
           "FL"
          ],
          [
           "WA"
          ],
          [
           "MO"
          ],
          [
           "FL"
          ],
          [
           "FL"
          ],
          [
           "FL"
          ],
          [
           "CA"
          ],
          [
           "FL"
          ],
          [
           "FL"
          ],
          [
           "FL"
          ],
          [
           "FL"
          ],
          [
           "FL"
          ],
          [
           "NC"
          ],
          [
           "TN"
          ],
          [
           "TN"
          ],
          [
           "CA"
          ],
          [
           "CA"
          ],
          [
           "FL"
          ],
          [
           "CA"
          ],
          [
           "CA"
          ],
          [
           "CA"
          ],
          [
           "FL"
          ],
          [
           "FL"
          ],
          [
           "CA"
          ],
          [
           "VA"
          ],
          [
           "FL"
          ],
          [
           "FL"
          ],
          [
           "MN"
          ],
          [
           "FL"
          ],
          [
           "CA"
          ],
          [
           "FL"
          ],
          [
           "FL"
          ],
          [
           "FL"
          ],
          [
           "FL"
          ],
          [
           "FL"
          ],
          [
           "NC"
          ],
          [
           "FL"
          ],
          [
           "FL"
          ],
          [
           "FL"
          ],
          [
           "FL"
          ],
          [
           "FL"
          ],
          [
           "FL"
          ],
          [
           "LA"
          ],
          [
           "OR"
          ],
          [
           "CA"
          ],
          [
           "CA"
          ],
          [
           "CA"
          ],
          [
           "LA"
          ],
          [
           "FL"
          ],
          [
           "FL"
          ],
          [
           "CA"
          ],
          [
           "CA"
          ],
          [
           "FL"
          ],
          [
           "FL"
          ],
          [
           "FL"
          ],
          [
           "CA"
          ],
          [
           "FL"
          ],
          [
           "FL"
          ],
          [
           "TN"
          ],
          [
           "CA"
          ],
          [
           "CA"
          ],
          [
           "FL"
          ],
          [
           "FL"
          ],
          [
           "FL"
          ],
          [
           "FL"
          ],
          [
           "FL"
          ],
          [
           "CA"
          ],
          [
           "FL"
          ],
          [
           "FL"
          ],
          [
           "FL"
          ],
          [
           "FL"
          ],
          [
           "CA"
          ],
          [
           "SC"
          ],
          [
           "CA"
          ],
          [
           "CA"
          ],
          [
           "CO"
          ],
          [
           "LA"
          ],
          [
           "FL"
          ],
          [
           "VA"
          ],
          [
           "FL"
          ],
          [
           "NC"
          ],
          [
           "LA"
          ],
          [
           "FL"
          ],
          [
           "FL"
          ],
          [
           "VA"
          ],
          [
           "FL"
          ],
          [
           "SC"
          ],
          [
           "FL"
          ],
          [
           "CA"
          ],
          [
           "TX"
          ],
          [
           "CA"
          ],
          [
           "FL"
          ],
          [
           "FL"
          ],
          [
           "FL"
          ],
          [
           "FL"
          ],
          [
           "CA"
          ],
          [
           "FL"
          ],
          [
           "CA"
          ],
          [
           "CA"
          ],
          [
           "FL"
          ],
          [
           "FL"
          ],
          [
           "FL"
          ],
          [
           "FL"
          ],
          [
           "SC"
          ],
          [
           "FL"
          ],
          [
           "FL"
          ],
          [
           "CA"
          ],
          [
           "FL"
          ],
          [
           "FL"
          ],
          [
           "FL"
          ],
          [
           "AZ"
          ],
          [
           "CA"
          ],
          [
           "CA"
          ],
          [
           "FL"
          ],
          [
           "CA"
          ],
          [
           "FL"
          ],
          [
           "FL"
          ],
          [
           "FL"
          ],
          [
           "NY"
          ],
          [
           "NJ"
          ],
          [
           "CA"
          ],
          [
           "FL"
          ],
          [
           "FL"
          ],
          [
           "FL"
          ],
          [
           "AZ"
          ],
          [
           "FL"
          ],
          [
           "CA"
          ],
          [
           "CA"
          ],
          [
           "FL"
          ],
          [
           "FL"
          ],
          [
           "SC"
          ],
          [
           "MT"
          ],
          [
           "FL"
          ],
          [
           "CA"
          ],
          [
           "FL"
          ],
          [
           "CA"
          ],
          [
           "FL"
          ],
          [
           "CA"
          ],
          [
           "FL"
          ],
          [
           "CA"
          ],
          [
           "FL"
          ],
          [
           "VA"
          ],
          [
           "NC"
          ],
          [
           "FL"
          ],
          [
           "FL"
          ],
          [
           "SC"
          ],
          [
           "CA"
          ],
          [
           "FL"
          ],
          [
           "FL"
          ],
          [
           "TX"
          ],
          [
           "FL"
          ],
          [
           "FL"
          ],
          [
           "FL"
          ],
          [
           "CA"
          ],
          [
           "CA"
          ],
          [
           "VA"
          ],
          [
           "FL"
          ],
          [
           "FL"
          ],
          [
           "CA"
          ],
          [
           "CA"
          ],
          [
           "FL"
          ],
          [
           "MD"
          ],
          [
           "MT"
          ],
          [
           "FL"
          ],
          [
           "FL"
          ],
          [
           "FL"
          ],
          [
           "FL"
          ],
          [
           "FL"
          ],
          [
           "FL"
          ],
          [
           "CA"
          ],
          [
           "FL"
          ],
          [
           "FL"
          ],
          [
           "FL"
          ],
          [
           "CA"
          ],
          [
           "FL"
          ],
          [
           "CA"
          ],
          [
           "FL"
          ],
          [
           "FL"
          ],
          [
           "CA"
          ],
          [
           "FL"
          ],
          [
           "FL"
          ],
          [
           "FL"
          ],
          [
           "UT"
          ],
          [
           "CA"
          ],
          [
           "NY"
          ],
          [
           "TN"
          ],
          [
           "VA"
          ],
          [
           "MS"
          ],
          [
           "FL"
          ],
          [
           "CA"
          ],
          [
           "FL"
          ],
          [
           "CT"
          ],
          [
           "FL"
          ],
          [
           "VA"
          ],
          [
           "OK"
          ],
          [
           "FL"
          ],
          [
           "CA"
          ],
          [
           "FL"
          ],
          [
           "FL"
          ],
          [
           "NC"
          ],
          [
           "FL"
          ],
          [
           "FL"
          ],
          [
           "TN"
          ],
          [
           "FL"
          ],
          [
           "FL"
          ],
          [
           "CA"
          ],
          [
           "FL"
          ],
          [
           "MN"
          ],
          [
           "TX"
          ],
          [
           "CA"
          ],
          [
           "FL"
          ],
          [
           "FL"
          ],
          [
           "UT"
          ],
          [
           "FL"
          ],
          [
           "FL"
          ],
          [
           "FL"
          ],
          [
           "CA"
          ],
          [
           "FL"
          ],
          [
           "MD"
          ],
          [
           "DC"
          ],
          [
           "FL"
          ],
          [
           "NJ"
          ],
          [
           "TX"
          ],
          [
           "CA"
          ],
          [
           "FL"
          ],
          [
           "VA"
          ],
          [
           "FL"
          ],
          [
           "FL"
          ],
          [
           "FL"
          ],
          [
           "FL"
          ],
          [
           "SC"
          ],
          [
           "NV"
          ],
          [
           "CA"
          ],
          [
           "CA"
          ],
          [
           "CA"
          ],
          [
           "FL"
          ],
          [
           "FL"
          ],
          [
           "FL"
          ],
          [
           "FL"
          ],
          [
           "FL"
          ],
          [
           "TN"
          ],
          [
           "FL"
          ],
          [
           "FL"
          ],
          [
           "CA"
          ],
          [
           "FL"
          ],
          [
           "CA"
          ],
          [
           "CA"
          ],
          [
           "PA"
          ],
          [
           "CA"
          ],
          [
           "FL"
          ],
          [
           "CA"
          ],
          [
           "CA"
          ],
          [
           "NY"
          ],
          [
           "GA"
          ],
          [
           "VA"
          ],
          [
           "FL"
          ],
          [
           "FL"
          ],
          [
           "CA"
          ],
          [
           "CA"
          ],
          [
           "FL"
          ],
          [
           "FL"
          ],
          [
           "CA"
          ],
          [
           "FL"
          ],
          [
           "TN"
          ],
          [
           "TN"
          ],
          [
           "CA"
          ],
          [
           "FL"
          ],
          [
           "LA"
          ],
          [
           "FL"
          ],
          [
           "FL"
          ],
          [
           "CA"
          ],
          [
           "DC"
          ],
          [
           "FL"
          ],
          [
           "VA"
          ],
          [
           "FL"
          ],
          [
           "OR"
          ],
          [
           "VA"
          ],
          [
           "CA"
          ],
          [
           "TX"
          ],
          [
           "FL"
          ],
          [
           "VA"
          ],
          [
           "FL"
          ],
          [
           "CA"
          ],
          [
           "FL"
          ],
          [
           "FL"
          ],
          [
           "VA"
          ],
          [
           "FL"
          ],
          [
           "CA"
          ],
          [
           "FL"
          ],
          [
           "CA"
          ],
          [
           "FL"
          ],
          [
           "NC"
          ],
          [
           "CA"
          ],
          [
           "CA"
          ],
          [
           "MN"
          ],
          [
           "CA"
          ],
          [
           "FL"
          ],
          [
           "FL"
          ],
          [
           "CA"
          ],
          [
           "CA"
          ],
          [
           "VA"
          ],
          [
           "TX"
          ],
          [
           "FL"
          ],
          [
           "FL"
          ],
          [
           "FL"
          ],
          [
           "NY"
          ],
          [
           "FL"
          ],
          [
           "FL"
          ],
          [
           "NC"
          ],
          [
           "FL"
          ],
          [
           "MD"
          ],
          [
           "FL"
          ],
          [
           "FL"
          ],
          [
           "FL"
          ],
          [
           "CA"
          ],
          [
           "CA"
          ],
          [
           "FL"
          ],
          [
           "CA"
          ],
          [
           "CA"
          ],
          [
           "FL"
          ],
          [
           "FL"
          ],
          [
           "CA"
          ],
          [
           "FL"
          ],
          [
           "VA"
          ],
          [
           "FL"
          ],
          [
           "TX"
          ],
          [
           "FL"
          ],
          [
           "FL"
          ],
          [
           "FL"
          ],
          [
           "OR"
          ],
          [
           "FL"
          ],
          [
           "CA"
          ],
          [
           "CA"
          ],
          [
           "FL"
          ],
          [
           "LA"
          ],
          [
           "FL"
          ],
          [
           "FL"
          ],
          [
           "CA"
          ],
          [
           "FL"
          ],
          [
           "VA"
          ],
          [
           "FL"
          ],
          [
           "FL"
          ],
          [
           "FL"
          ],
          [
           "VA"
          ],
          [
           "NC"
          ],
          [
           "FL"
          ],
          [
           "CA"
          ],
          [
           "FL"
          ],
          [
           "FL"
          ],
          [
           "CA"
          ],
          [
           "FL"
          ],
          [
           "CA"
          ],
          [
           "FL"
          ],
          [
           "CA"
          ],
          [
           "CA"
          ],
          [
           "CA"
          ],
          [
           "FL"
          ],
          [
           "VA"
          ],
          [
           "NC"
          ],
          [
           "LA"
          ],
          [
           "CA"
          ],
          [
           "FL"
          ],
          [
           "CA"
          ],
          [
           "CA"
          ],
          [
           "CA"
          ],
          [
           "MN"
          ],
          [
           "FL"
          ],
          [
           "FL"
          ],
          [
           "CA"
          ],
          [
           "CA"
          ],
          [
           "CA"
          ],
          [
           "FL"
          ],
          [
           "FL"
          ],
          [
           "FL"
          ],
          [
           "LA"
          ],
          [
           "FL"
          ],
          [
           "FL"
          ],
          [
           "TN"
          ],
          [
           "GA"
          ],
          [
           "FL"
          ],
          [
           "FL"
          ],
          [
           "FL"
          ],
          [
           "AZ"
          ],
          [
           "SC"
          ],
          [
           "SC"
          ],
          [
           "FL"
          ],
          [
           "FL"
          ],
          [
           "SC"
          ],
          [
           "FL"
          ],
          [
           "FL"
          ],
          [
           "FL"
          ],
          [
           "TX"
          ],
          [
           "FL"
          ],
          [
           "CA"
          ],
          [
           "FL"
          ],
          [
           "CA"
          ],
          [
           "CA"
          ],
          [
           "FL"
          ],
          [
           "FL"
          ],
          [
           "CA"
          ],
          [
           "FL"
          ],
          [
           "FL"
          ],
          [
           "MN"
          ],
          [
           "FL"
          ],
          [
           "CA"
          ],
          [
           "MT"
          ]
         ],
         "hovertemplate": "<b>%{hovertext}</b><br><br>count=%{marker.color}<br>Start_Lat=%{lat}<br>Start_Lng=%{lon}<br>State=%{customdata[0]}<extra></extra>",
         "hovertext": [
          "Miami",
          "Orlando",
          "Orlando",
          "Miami",
          "Orlando",
          "Orlando",
          "Atlanta",
          "Orlando",
          "Orlando",
          "Miami",
          "Richmond",
          "Miami",
          "Miami",
          "Bronx",
          "Los Angeles",
          "Orlando",
          "Bradenton",
          "Miami",
          "North Miami",
          "Miami",
          "Orlando",
          "Miami",
          "Raleigh",
          "Miami",
          "Aventura",
          "Miami",
          "New York",
          "Washington",
          "Miami",
          "Nashville",
          "Aventura",
          "Miami",
          "Miami",
          "Hialeah",
          "Miami",
          "Los Angeles",
          "Los Angeles",
          "Miami",
          "Miami",
          "Wildwood",
          "Cabin John",
          "Philadelphia",
          "Miami Lakes",
          "Baton Rouge",
          "Miami",
          "Miami",
          "Miami",
          "Ontario",
          "Miami",
          "Rancho Cucamonga",
          "Miami",
          "Fort Lee",
          "Nashville",
          "Nashville",
          "North Miami",
          "Miami",
          "North Miami",
          "Nashville",
          "Hialeah",
          "North Miami",
          "New York",
          "Raleigh",
          "Orlando",
          "Miami",
          "Miami",
          "Miami",
          "Berkeley",
          "Ontario",
          "La Puente",
          "Orlando",
          "Maspeth",
          "Fort Lauderdale",
          "Miami",
          "Miami",
          "Miami",
          "Miami",
          "Miami",
          "Orlando",
          "Miami Beach",
          "Orlando",
          "Sherman Oaks",
          "North Miami",
          "Sunny Isles Beach",
          "Orlando",
          "Miami",
          "Miami",
          "Hialeah",
          "Miami",
          "Orlando",
          "Raleigh",
          "North Miami",
          "Charlotte",
          "Miami",
          "Miami",
          "Orlando",
          "Miami",
          "Raleigh",
          "Miami",
          "Raleigh",
          "Miami",
          "Orlando",
          "Richmond",
          "Cutler Bay",
          "Miami",
          "Miami",
          "Miami",
          "Brea",
          "Bronx",
          "Orlando",
          "Aventura",
          "Nashville",
          "San Francisco",
          "Nashville",
          "Grand Rapids",
          "Orlando",
          "North Miami",
          "Madera",
          "Orlando",
          "Kissimmee",
          "Fort Lee",
          "North Miami",
          "Corona",
          "Hialeah",
          "Miami",
          "North Miami Beach",
          "Orlando",
          "Miami",
          "Orlando",
          "Miami",
          "North Miami",
          "Orlando",
          "Hallandale",
          "Orlando",
          "Raleigh",
          "Bradenton",
          "Fort Myers",
          "Miami",
          "Miami",
          "Raleigh",
          "Orlando",
          "Hollywood",
          "New York",
          "Miami",
          "Orlando",
          "Riverside",
          "Miami",
          "Charlotte",
          "Miami",
          "Orlando",
          "North Miami",
          "Miami",
          "Los Angeles",
          "Miami",
          "Miami",
          "North Miami",
          "Fort Lauderdale",
          "Miami",
          "Los Angeles",
          "Miami",
          "Miami",
          "Charlotte",
          "Miami",
          "North Miami Beach",
          "Hallandale",
          "Orlando",
          "Los Angeles",
          "Richmond",
          "Miami",
          "Orlando",
          "Miami",
          "Miami",
          "Miami",
          "Miami",
          "Miami",
          "Miami",
          "Hialeah",
          "Miami",
          "Sacramento",
          "Los Angeles",
          "Miami",
          "Miami",
          "City Of Industry",
          "Miami",
          "North Miami",
          "Whittier",
          "Miami",
          "Orlando",
          "Opa Locka",
          "Miami",
          "Alexandria",
          "Cutler Bay",
          "Whittier",
          "North Miami",
          "Staten Island",
          "Sarasota",
          "Nashville",
          "Miami",
          "Pendleton",
          "Orlando",
          "Raleigh",
          "Anaheim",
          "Miami",
          "Miami",
          "Miami",
          "Hialeah",
          "Woodford",
          "San Francisco",
          "Brandon",
          "Downey",
          "Miami",
          "Hialeah",
          "Hialeah",
          "Raleigh",
          "Brandon",
          "Miami",
          "North Miami",
          "Miami",
          "Richmond",
          "Los Angeles",
          "Orlando",
          "Miami",
          "Raleigh",
          "Palm Harbor",
          "Orlando",
          "Miami",
          "Miami",
          "Bradenton",
          "Orlando",
          "Bronx",
          "Richmond",
          "Charlotte",
          "Miami Gardens",
          "Miami",
          "Los Angeles",
          "Orlando",
          "Corbett",
          "Miami",
          "Orlando",
          "Miami",
          "Miami",
          "Raleigh",
          "Sarasota",
          "Miami",
          "North Miami Beach",
          "Orlando",
          "Bell Gardens",
          "Miami",
          "Corona",
          "Miami",
          "Miami",
          "South Miami",
          "Orlando",
          "Baton Rouge",
          "Orlando",
          "Miami",
          "North Miami",
          "Miami",
          "Miami",
          "Whittier",
          "Orlando",
          "Orlando",
          "Fort Myers",
          "Rowland Heights",
          "Los Angeles",
          "Orlando",
          "Portland",
          "Miami",
          "Miami",
          "North Miami Beach",
          "Portland",
          "Miami",
          "Miami",
          "Bonita Springs",
          "San Lorenzo",
          "Bell Gardens",
          "Oakland",
          "Miami",
          "Nashville",
          "Miami",
          "Miami",
          "Ocala",
          "Los Angeles",
          "Miami",
          "Miami",
          "Orange",
          "Miami",
          "Ontario",
          "Los Angeles",
          "Santa Monica",
          "City Of Industry",
          "Hallandale",
          "Miami",
          "Sarasota",
          "Raleigh",
          "Sarasota",
          "Miami",
          "Miami",
          "Fort Lee",
          "Miami",
          "Orlando",
          "Mesquite",
          "Orlando",
          "Nashville",
          "North Miami",
          "Miami",
          "Orlando",
          "North Miami Beach",
          "Union City",
          "Baton Rouge",
          "Orlando",
          "Miami",
          "North Miami",
          "Mission Viejo",
          "Palm Harbor",
          "North Miami",
          "Hialeah",
          "Madison",
          "Miami",
          "Bronx",
          "Jacksonville",
          "Raleigh",
          "Miami",
          "Miami",
          "Aventura",
          "Miami",
          "Suffolk",
          "Corona",
          "Orlando",
          "Stafford",
          "Orlando",
          "Mira Loma",
          "Miami",
          "Miami",
          "Orlando",
          "Miami",
          "Bonita Springs",
          "Hialeah",
          "Raleigh",
          "Miami",
          "Miami",
          "Moreno Valley",
          "Baton Rouge",
          "Miami",
          "Miami",
          "Miami",
          "Miami",
          "Los Angeles",
          "Orlando",
          "Los Angeles",
          "Miami",
          "Miami",
          "Nashville",
          "Kansas City",
          "Nashville",
          "Stafford",
          "North Miami",
          "Miami",
          "Los Angeles",
          "Washington",
          "Miami",
          "North Miami",
          "Miami",
          "Miami",
          "Miami",
          "Hialeah",
          "North Miami Beach",
          "Miami",
          "Bonita Springs",
          "Miami",
          "Miami",
          "Raleigh",
          "Miami",
          "Baton Rouge",
          "Miami",
          "Sacramento",
          "Orlando",
          "Hayward",
          "Miami",
          "Orlando",
          "Livingston",
          "Miami",
          "Raleigh",
          "Miami",
          "Hallandale",
          "Orlando",
          "Berkeley",
          "Hallandale",
          "Miami",
          "Fort Lauderdale",
          "Orlando",
          "La Puente",
          "Stafford",
          "Orlando",
          "Miami",
          "Hollywood",
          "Bell Gardens",
          "Los Angeles",
          "Orlando",
          "Raleigh",
          "Paramount",
          "Miami",
          "Fort Lee",
          "Van Nuys",
          "Miami",
          "Raleigh",
          "Orlando",
          "Miami",
          "Los Angeles",
          "Orlando",
          "Miami",
          "Charlotte",
          "Miami",
          "New Orleans",
          "Bradenton",
          "Norristown",
          "Greenville",
          "North Miami Beach",
          "Tucson",
          "Orlando",
          "Miami",
          "Bloomington",
          "San Francisco",
          "Raleigh",
          "Atlanta",
          "Miami",
          "Miami",
          "Bellmawr",
          "North Miami",
          "Portland",
          "Riverside",
          "Bradenton",
          "North Miami",
          "Miami",
          "Orlando",
          "Orlando",
          "Hialeah",
          "Miami",
          "Jacksonville",
          "Miami",
          "Orlando",
          "Orlando",
          "Miami",
          "Sunny Isles Beach",
          "Orlando",
          "Raleigh",
          "La Puente",
          "Miami",
          "Corbett",
          "Richmond",
          "Dallas",
          "Orlando",
          "Opa Locka",
          "Charlotte",
          "Dallas",
          "North Miami Beach",
          "Lorton",
          "North Miami",
          "Frederick",
          "Miami",
          "Orlando",
          "Orlando",
          "Miami",
          "Orlando",
          "Miami",
          "Downey",
          "Orlando",
          "Springfield",
          "Miami",
          "Orlando",
          "Culver City",
          "Miami",
          "Miami",
          "Miami",
          "Ontario",
          "Los Angeles",
          "Orlando",
          "Miami",
          "Miami",
          "Miami",
          "Miami",
          "Downey",
          "Fort Lauderdale",
          "Emeryville",
          "Orlando",
          "Columbia",
          "Orlando",
          "Opa Locka",
          "Miami",
          "Orlando",
          "Miami",
          "Miami",
          "Naselle",
          "San Diego",
          "North Miami",
          "Shreveport",
          "Orlando",
          "Miami",
          "Miami",
          "Miami",
          "Miami",
          "Richmond",
          "Orlando",
          "Miami",
          "Miami",
          "Sarasota",
          "Colton",
          "Madison",
          "Hialeah",
          "Santa Ana",
          "Orlando",
          "New York",
          "Bradenton",
          "Miami",
          "Pompano Beach",
          "Miami",
          "Hialeah",
          "North Miami Beach",
          "Miami",
          "Reno",
          "Kissimmee",
          "Chesapeake",
          "Nashville",
          "Davenport",
          "Sunny Isles Beach",
          "Miami",
          "Chesapeake",
          "Miami",
          "Orlando",
          "Orlando",
          "Ontario",
          "Newport News",
          "Bonita Springs",
          "La Puente",
          "Orlando",
          "Miami",
          "Opa Locka",
          "Orlando",
          "Oxford",
          "Opa Locka",
          "Encino",
          "Charlotte",
          "Newhall",
          "Los Angeles",
          "North Miami",
          "Orlando",
          "Miami",
          "Orlando",
          "Bell Gardens",
          "Surfside",
          "Miami",
          "Charlotte",
          "San Francisco",
          "Miami",
          "Orlando",
          "Kissimmee",
          "Stafford",
          "Miami",
          "Miami",
          "Cutler Bay",
          "Hialeah",
          "Miami",
          "Miami",
          "North Miami Beach",
          "Anaheim",
          "Charlotte",
          "New Orleans",
          "Bronx",
          "Houston",
          "Orlando",
          "Whittier",
          "Fairfax",
          "Antioch",
          "Orlando",
          "Norfolk",
          "Emeryville",
          "Costa Mesa",
          "Hialeah",
          "Bonita Springs",
          "Miami",
          "Orlando",
          "Miami",
          "Vienna",
          "Orlando",
          "Orlando",
          "Riverside",
          "Anaheim",
          "Miami",
          "Pensacola",
          "Los Angeles",
          "Miami",
          "Miami",
          "Miami",
          "San Leandro",
          "Orlando",
          "Miami",
          "Seattle",
          "Kansas City",
          "Orlando",
          "Hialeah",
          "Orlando",
          "Garden Grove",
          "Hialeah",
          "Orlando",
          "Miami",
          "Miami",
          "Hollywood",
          "Raleigh",
          "Nashville",
          "Nashville",
          "Bell Gardens",
          "Sherman Oaks",
          "Miami",
          "Garden Grove",
          "La Puente",
          "Anaheim",
          "Hialeah",
          "Riverview",
          "Riverside",
          "Norfolk",
          "Miami",
          "Miami",
          "Minneapolis",
          "Miami",
          "Anaheim",
          "Cutler Bay",
          "Miami",
          "Winter Park",
          "Orlando",
          "Hollywood",
          "Raleigh",
          "Miami",
          "Palmetto Bay",
          "Miami",
          "Miami",
          "Orlando",
          "Cutler Bay",
          "Port Allen",
          "Portland",
          "San Francisco",
          "Sacramento",
          "San Bernardino",
          "Baton Rouge",
          "Miami",
          "Orlando",
          "Brea",
          "Los Angeles",
          "Miami",
          "Miami",
          "Miami",
          "Corona",
          "Miami",
          "Orlando",
          "Chattanooga",
          "Hacienda Heights",
          "Ontario",
          "Orlando",
          "Orlando",
          "Miami",
          "Miami",
          "Miami",
          "Ontario",
          "Orlando",
          "Orlando",
          "Orlando",
          "Boca Raton",
          "Los Angeles",
          "Columbia",
          "Colton",
          "Lynwood",
          "Broomfield",
          "Baton Rouge",
          "Orlando",
          "Arlington",
          "Opa Locka",
          "Greensboro",
          "Baton Rouge",
          "Miami",
          "Miami",
          "Doswell",
          "Miami",
          "Swansea",
          "Miami",
          "Baldwin Park",
          "Houston",
          "Sacramento",
          "Riverview",
          "Miami",
          "Orlando",
          "North Miami Beach",
          "Colton",
          "Miami",
          "Whittier",
          "Hayward",
          "Tampa",
          "Miami",
          "Miami",
          "Orlando",
          "Greer",
          "Orlando",
          "Orlando",
          "Anaheim",
          "Orlando",
          "Dover",
          "Orlando",
          "Phoenix",
          "Riverside",
          "Paramount",
          "Pensacola",
          "Corona",
          "Jacksonville",
          "Hialeah",
          "Orlando",
          "Kew Gardens",
          "Fort Lee",
          "Sacramento",
          "Miami",
          "Miami",
          "Miami",
          "Tucson",
          "Orlando",
          "Bloomington",
          "Huntington Park",
          "Orlando",
          "Oxford",
          "Lexington",
          "Bozeman",
          "Orlando",
          "Los Angeles",
          "Orlando",
          "Lynwood",
          "North Miami",
          "Studio City",
          "Miami",
          "Bell Gardens",
          "Orlando",
          "Richmond",
          "Raleigh",
          "North Miami",
          "Bradenton",
          "Greenville",
          "Whittier",
          "Miami",
          "Jacksonville",
          "Houston",
          "Orlando",
          "Orlando",
          "Miami",
          "Anaheim",
          "Los Angeles",
          "Chesapeake",
          "Miami",
          "Miami",
          "Alhambra",
          "Yorba Linda",
          "Miami",
          "Bethesda",
          "Bozeman",
          "Miami",
          "Miami",
          "Miami",
          "Bradenton",
          "Hallandale",
          "Orlando",
          "Montebello",
          "Fort Myers",
          "North Miami",
          "Orlando",
          "Sacramento",
          "Orlando",
          "Ontario",
          "Miami",
          "Fort Myers",
          "Los Angeles",
          "Orlando",
          "Miami",
          "Bradenton",
          "West Valley City",
          "San Juan Capistrano",
          "Tarrytown",
          "Nashville",
          "Arlington",
          "Richland",
          "North Miami Beach",
          "Bellflower",
          "North Miami Beach",
          "Waterbury",
          "Miami",
          "Fairfax",
          "Tulsa",
          "Orlando",
          "Baldwin Park",
          "Cutler Bay",
          "Miami",
          "Raleigh",
          "Miami",
          "Miami",
          "Nashville",
          "Fort Lauderdale",
          "Miami",
          "Los Angeles",
          "Miami",
          "Minneapolis",
          "Houston",
          "Los Angeles",
          "North Miami",
          "Miami",
          "Salt Lake City",
          "Orlando",
          "Miami",
          "Orlando",
          "Anaheim",
          "Miami",
          "Hyattsville",
          "Washington",
          "Miami",
          "East Orange",
          "Houston",
          "Rowland Heights",
          "Orlando",
          "Lorton",
          "Orlando",
          "Orlando",
          "Miami",
          "Fort Lauderdale",
          "Cowpens",
          "Washoe Valley",
          "Garden Grove",
          "Tracy",
          "Los Angeles",
          "Miami",
          "Orlando",
          "Miami",
          "Bradenton",
          "Miami",
          "Nashville",
          "Orlando",
          "North Miami",
          "Riverside",
          "Orlando",
          "San Bernardino",
          "Hayward",
          "Nescopeck",
          "Anaheim",
          "Miami",
          "Sacramento",
          "Fresno",
          "Brooklyn",
          "Austell",
          "Fredericksburg",
          "Homestead",
          "Miami",
          "Downey",
          "Laguna Hills",
          "Fort Myers",
          "Orlando",
          "Fontana",
          "Miami",
          "Nashville",
          "Nashville",
          "Rowland Heights",
          "Miami",
          "Port Allen",
          "Miami",
          "Orlando",
          "Alhambra",
          "Washington",
          "Miami",
          "Glen Allen",
          "Miami",
          "Pendleton",
          "Stafford",
          "Whittier",
          "Dallas",
          "Hialeah",
          "Mc Lean",
          "Miami Beach",
          "Sherman Oaks",
          "Hollywood",
          "Orlando",
          "Vienna",
          "Miami",
          "Long Beach",
          "Pensacola",
          "Baldwin Park",
          "Boca Raton",
          "Raleigh",
          "Vernon",
          "Los Angeles",
          "Minneapolis",
          "Los Angeles",
          "Miami",
          "Miami",
          "Paramount",
          "City Of Industry",
          "Elliston",
          "Houston",
          "Miami",
          "Opa Locka",
          "Orlando",
          "Nyack",
          "Fort Myers",
          "Miami",
          "Raleigh",
          "Miami",
          "Capitol Heights",
          "Sarasota",
          "Miami",
          "Sarasota",
          "Riverside",
          "Corona",
          "Orlando",
          "Bloomington",
          "San Francisco",
          "Orlando",
          "Miami",
          "Bakersfield",
          "Clearwater",
          "Lorton",
          "Orlando",
          "Dallas",
          "Orlando",
          "Hialeah",
          "Orlando",
          "Portland",
          "Orlando",
          "Redlands",
          "Compton",
          "Miami",
          "Port Allen",
          "Miami",
          "Winter Park",
          "Lake Elsinore",
          "Cutler Bay",
          "Suffolk",
          "Miami",
          "Miami",
          "Miami",
          "Triangle",
          "Charlotte",
          "Orlando",
          "San Leandro",
          "Estero",
          "Miami",
          "La Jolla",
          "Miami",
          "Tracy",
          "Reddick",
          "Lynwood",
          "Hacienda Heights",
          "Hayward",
          "Miami",
          "Fredericksburg",
          "Raleigh",
          "Baton Rouge",
          "Cerritos",
          "Fort Lauderdale",
          "Sacramento",
          "Colton",
          "Los Angeles",
          "Minneapolis",
          "Fort Myers",
          "Kissimmee",
          "Los Angeles",
          "Bell Gardens",
          "Ontario",
          "Miami",
          "Miami",
          "Miami Lakes",
          "Baton Rouge",
          "Miami",
          "Bonita Springs",
          "Nashville",
          "Atlanta",
          "Orlando",
          "Miami",
          "Miami",
          "Tucson",
          "Greenville",
          "Columbia",
          "North Miami",
          "Miami",
          "Columbia",
          "Orlando",
          "Miami",
          "Miami",
          "Houston",
          "Miami",
          "Tustin",
          "Hialeah",
          "Los Angeles",
          "South Gate",
          "Miami",
          "Miami",
          "Napa",
          "Orlando",
          "Miami",
          "Minneapolis",
          "Hialeah",
          "Hayward",
          "Laurel"
         ],
         "lat": [
          25.702455,
          28.451602,
          28.449924,
          25.689146,
          28.449055,
          28.452192,
          33.780731,
          28.452939,
          28.447931,
          25.82311749,
          37.552525,
          25.749454,
          25.699599,
          40.845262,
          34.031220000000005,
          28.35741,
          27.447751,
          25.73417,
          25.891627,
          25.882785,
          28.576429,
          25.712548,
          35.839238,
          25.626145,
          25.92478,
          25.684325,
          40.799824,
          38.871806,
          25.890733,
          36.220031,
          25.925341,
          25.883587,
          25.684604,
          25.943451,
          25.733269,
          34.053044,
          34.042949,
          25.823117,
          25.71377,
          28.878432512145626,
          38.971164,
          39.957014,
          25.923052,
          30.421284000000004,
          25.939703,
          25.846986,
          25.733243,
          34.067366,
          25.910063,
          34.082366,
          25.763863,
          40.854224,
          36.144156,
          36.141299,
          25.890169,
          25.91006398,
          25.89007,
          36.157614,
          25.880626,
          25.899251,
          40.846059,
          35.844561,
          28.442505,
          25.808224,
          25.7307,
          25.670941,
          37.863905,
          34.067399,
          34.038463,
          28.575209,
          40.726035,
          26.142525,
          25.945115,
          25.748801,
          25.687938,
          25.68692,
          25.747537,
          28.482248,
          25.810617,
          28.552392,
          34.127088,
          25.890117,
          25.935124,
          28.357378000000004,
          25.734958,
          25.702429,
          25.924424,
          25.769715,
          28.450781,
          35.89043,
          25.890103,
          35.162882,
          25.686308,
          25.882663,
          28.449998,
          25.672033,
          35.842098,
          25.925516000000002,
          35.83872,
          25.683394,
          28.468802,
          37.58136,
          25.597573,
          25.627116,
          25.698611,
          25.764586,
          33.914491,
          40.804381,
          28.450977,
          25.946072,
          36.140601,
          37.770949,
          36.153947,
          42.927612,
          28.495335,
          25.889339,
          36.921506,
          28.451531,
          28.338919,
          40.854159,
          25.890073,
          33.88015151,
          25.939197,
          25.938449,
          25.934112,
          28.45165,
          25.78784,
          28.449912,
          25.702121,
          25.890198,
          28.4493,
          25.988148,
          28.580034,
          35.889789,
          27.447754,
          26.547684000000004,
          25.890378,
          25.642258,
          35.843656,
          28.537185,
          25.998799,
          40.84609,
          25.949326,
          28.488834000000004,
          33.964044,
          25.685462,
          35.201454,
          25.881633,
          28.451938,
          25.88678,
          25.885921,
          34.06037,
          25.642714,
          25.769469,
          25.889312,
          26.149984,
          25.899633,
          34.050277,
          25.683774,
          25.688012,
          35.26054699999999,
          25.76861,
          25.933097,
          25.98887801,
          28.615119,
          33.960007,
          37.552072,
          25.670988,
          28.567595,
          25.734897,
          25.889364,
          25.884164,
          25.687695,
          25.769711,
          25.882822,
          25.881657,
          25.948502,
          38.550553,
          34.042952,
          25.76972,
          25.768632,
          34.002052,
          25.699801,
          25.890143,
          33.98819,
          25.688182,
          28.486835,
          25.893601,
          25.628105,
          38.79531400000001,
          25.577061,
          34.030965,
          25.891254,
          40.602291,
          27.29997,
          36.187584,
          25.760886,
          45.583852529308395,
          28.388226,
          35.843975,
          33.84577632,
          25.882665,
          25.945914,
          25.810617,
          25.941566,
          38.13559412938053,
          37.808253,
          27.939144,
          33.941182,
          25.625151,
          25.939205,
          25.893911,
          35.798561,
          27.936367,
          25.659734,
          25.888174,
          25.670686,
          37.552988,
          33.982358000000005,
          28.486795,
          25.670913,
          35.842484000000006,
          28.064657,
          28.35743,
          25.887561,
          25.899671,
          27.447463,
          28.578613,
          40.844731,
          37.554292,
          35.163378,
          25.939421,
          25.899331,
          34.003725,
          28.422651,
          45.55981,
          25.940336,
          28.44992,
          25.714569,
          25.714093,
          35.83965999999999,
          27.300588,
          25.68887,
          25.933324,
          28.538959,
          33.96679,
          25.768256,
          33.86968017,
          25.899614,
          25.731812,
          25.706561,
          28.453644,
          30.442628000000006,
          28.486787,
          25.700661,
          25.889347,
          25.889511,
          25.831073,
          33.972641,
          28.450381,
          28.421363,
          26.546164,
          33.988378000000004,
          34.060497,
          28.452447,
          45.525281,
          25.767744,
          25.732097,
          25.929465,
          45.58047,
          25.747524,
          25.689243,
          26.330517,
          37.681087,
          33.967599,
          37.764022,
          25.688176,
          36.148366,
          25.685477,
          25.811613,
          29.252395,
          33.960141,
          25.68619,
          25.881818,
          33.776659,
          25.886365,
          34.087246,
          34.032376,
          34.02724,
          34.00354,
          25.98814845,
          25.760892,
          27.270415000000003,
          35.841729,
          27.262769,
          25.750508,
          25.685064,
          40.852872,
          25.816086,
          28.493792,
          32.802873,
          28.447933000000006,
          36.161854,
          25.889321,
          25.686089000000006,
          28.451919,
          25.928151,
          37.58581,
          30.417584,
          28.421362,
          25.74753,
          25.887227,
          33.58017,
          28.065353,
          25.885611,
          25.880138,
          36.260851,
          25.806911,
          40.824251,
          30.481504,
          35.849564,
          25.811402,
          25.941563,
          25.92446,
          25.769718,
          36.930596,
          33.762719,
          28.566974,
          38.50894,
          28.392874,
          34.005855,
          25.883893,
          25.714063,
          28.492772,
          25.927299,
          26.330523,
          25.940932,
          35.84119099999999,
          25.669776,
          25.807569,
          33.921671999999994,
          30.415952,
          25.733831,
          25.760893,
          25.845667,
          25.734914,
          33.960014,
          28.551918,
          33.937,
          25.686246,
          25.627141,
          36.148874,
          39.096244,
          36.159391,
          38.499675,
          25.890186,
          25.769715,
          34.033511,
          38.882355,
          25.943633,
          25.889296,
          25.942673000000006,
          25.866297,
          25.624906,
          25.944274,
          25.92958,
          25.760878,
          26.328982,
          25.685194,
          25.970307,
          35.89131300000001,
          25.731925,
          30.418105,
          25.796986,
          38.560477,
          28.421394,
          37.656336,
          25.630294,
          28.538968,
          45.65777420975847,
          25.684871,
          35.798717,
          25.748356,
          25.988878,
          28.450365,
          37.895226,
          25.979529,
          25.829173,
          26.094357,
          28.449913,
          34.041057,
          38.397639,
          28.428795,
          25.700111,
          26.014923,
          33.96638,
          33.958559,
          28.423153000000006,
          35.84414500000001,
          33.911245,
          25.603575,
          40.854842,
          34.216414,
          25.625382,
          35.79942600000001,
          28.565166,
          25.769215,
          33.989163,
          28.419187,
          25.688377,
          35.148053000000004,
          25.665336,
          29.944974,
          27.447469,
          40.117578,
          34.818991,
          25.923445,
          32.250353999999994,
          28.552164,
          25.883616,
          34.067840999999994,
          37.765236,
          35.840001,
          33.695392,
          25.714343,
          25.899987,
          39.871485,
          25.888278,
          45.6128,
          33.920685,
          27.4492,
          25.890213,
          25.685183,
          28.411856,
          28.552325,
          25.884161,
          25.878423,
          30.48591,
          25.747541,
          28.382065,
          28.609264000000003,
          25.698141,
          25.93371,
          28.552387,
          35.845432,
          34.044604,
          25.903343,
          45.53161,
          37.55299687367653,
          32.792551,
          28.450912,
          25.896783,
          35.155481,
          32.72043,
          25.924072,
          38.692718,
          25.890177,
          39.407578,
          25.699282,
          28.409087,
          28.413478,
          25.734115,
          28.449914,
          25.890001,
          33.95474,
          28.447071,
          38.785603,
          25.732169,
          28.493772,
          33.994868,
          25.760891,
          25.796996,
          25.884512,
          34.067464,
          34.145285,
          28.424359000000006,
          25.730320000000006,
          25.700708,
          25.747808,
          25.749912,
          33.948133,
          26.170941,
          37.833222,
          28.423429,
          34.139826,
          28.45112,
          25.904649,
          25.639505,
          28.56791,
          25.657368,
          25.867955,
          46.23506,
          32.898941,
          25.889471,
          32.444720000000004,
          28.493768,
          25.865788,
          25.701843,
          25.714654,
          25.714585,
          37.550977,
          28.424607,
          25.73589,
          25.656426,
          27.214384000000006,
          34.055001000000004,
          36.260359,
          25.927231,
          33.777709,
          28.55317,
          40.851604,
          27.445309,
          25.885453,
          26.213933,
          25.715376000000006,
          25.930062,
          25.926033,
          25.947317,
          39.536568,
          28.332797,
          36.7587196825182,
          36.14011,
          28.197373,
          25.934586,
          25.807442,
          36.771589,
          25.683923,
          28.56681,
          28.551347,
          34.087166,
          37.015589,
          26.330538,
          34.051181,
          28.436917,
          25.82311749446,
          25.926019,
          28.449891,
          28.930848,
          25.909499,
          34.172007,
          35.053391,
          34.342274,
          34.137997,
          25.890445,
          28.452287,
          25.686059,
          28.437369,
          33.968167,
          25.883468,
          25.62762,
          35.052228,
          37.766317,
          25.945405,
          28.481623,
          28.259749,
          38.486312,
          25.70129,
          25.809446,
          25.579189000000003,
          25.895833,
          25.699202,
          25.702151,
          25.930202,
          33.870699,
          35.163649,
          29.944581,
          40.844065,
          29.736001,
          28.385901,
          34.017175,
          38.880214,
          36.017912,
          28.385836,
          36.870974,
          37.842598,
          33.683131,
          25.940783,
          26.333428,
          25.767491,
          28.566847,
          25.769723000000006,
          38.879449,
          28.496393,
          28.492141,
          33.91144,
          33.854001000000004,
          25.734217,
          30.494074,
          34.124459,
          25.939192,
          25.926882,
          25.899548,
          37.688119,
          28.554456,
          25.947379,
          47.46270300000001,
          39.11209,
          28.453176000000006,
          25.872704,
          28.537651,
          33.772031,
          25.884153,
          28.425427000000006,
          25.769601,
          25.899914000000006,
          26.0456121,
          35.901141,
          36.266905,
          36.046348,
          33.967651000000004,
          34.140745,
          25.963024,
          33.774829,
          34.029203,
          33.873613,
          25.925124,
          27.922753000000004,
          33.995039,
          36.874746,
          25.703506,
          25.885187,
          44.969401,
          25.811566,
          33.854437,
          25.577361,
          25.69891,
          28.605654,
          28.453387,
          26.002855,
          35.849697,
          25.81151,
          25.598639,
          25.626174,
          25.62699,
          28.487584,
          25.577465,
          30.453368,
          45.525215,
          37.81053,
          38.560071,
          34.278475,
          30.422732,
          25.787337,
          28.449921000000003,
          33.910918,
          34.027641,
          25.599092,
          25.968747,
          25.715168,
          33.880151,
          25.688161,
          28.426086,
          34.986838,
          33.993021,
          34.086839000000005,
          28.454246,
          28.429689,
          25.598519,
          25.631644,
          25.602323,
          34.087151,
          28.554384,
          28.449053000000006,
          28.538172,
          26.381,
          33.989156,
          34.114745,
          34.056921,
          33.925069,
          39.97325063,
          30.426076,
          28.534556,
          38.866088,
          25.898438,
          36.03445,
          30.443515,
          25.627579,
          25.732173,
          37.869289,
          25.943921,
          33.76466631873243,
          25.67213,
          34.064575,
          29.704057,
          38.538242,
          27.856196,
          25.928608,
          28.357818,
          25.926024,
          34.028558000000004,
          25.732196,
          33.98495078,
          37.674955,
          27.926622,
          25.963003,
          25.731657,
          28.474201,
          34.886873,
          28.449909,
          28.567046,
          33.867107,
          28.566762,
          28.027781,
          28.450001,
          33.462591,
          33.913391,
          33.911229,
          30.494503,
          33.741622,
          30.344328000000004,
          25.941223,
          28.493745,
          40.715289,
          40.85601,
          38.55788,
          25.824404,
          25.686109,
          25.704114,
          32.222426,
          28.428348,
          34.068435,
          33.974083,
          28.447594,
          28.8961,
          33.908323,
          45.66616415955703,
          28.407493,
          33.943628000000004,
          28.466979,
          33.924731,
          25.899691,
          34.156661,
          25.624829,
          33.96575900000001,
          28.551194,
          37.544589,
          35.849659,
          25.890318,
          27.446271000000007,
          34.818698,
          34.004123,
          25.701238,
          30.477378,
          29.72155,
          28.567542,
          28.450355,
          25.686005,
          33.850981,
          33.927917,
          36.76037192327136,
          25.641617,
          25.890023,
          34.071183000000005,
          33.86907935,
          25.947414,
          39.015234,
          45.646830796977774,
          25.684137,
          25.630882,
          25.715596,
          27.444413,
          25.98085,
          28.493325,
          34.035921,
          26.547751,
          25.889423,
          28.45048,
          38.544779,
          28.596711,
          34.067440000000005,
          25.881168,
          26.546554,
          34.035131,
          28.42485,
          25.770542000000006,
          27.461521,
          40.72096,
          33.51937,
          41.059029,
          36.117894,
          38.865564,
          32.27664,
          25.925994,
          33.876672,
          25.925838,
          41.548013,
          25.764367,
          38.879081,
          36.049897,
          28.552692,
          34.067681,
          25.578436,
          25.626002,
          35.893541,
          25.732181,
          25.786511,
          36.141797,
          26.200453,
          25.716064000000006,
          34.046958000000004,
          25.870141,
          44.965009,
          29.736555,
          33.97647,
          25.889492,
          25.687088,
          40.70478559,
          28.473451,
          25.760878,
          28.486838,
          33.854225,
          25.760879,
          38.986192,
          38.882896,
          25.747767,
          40.75327,
          29.733119,
          33.986670000000004,
          28.567058000000007,
          38.704969,
          28.493789000000003,
          28.454159000000004,
          25.687068,
          26.157203,
          35.055158,
          39.31209683399528,
          33.772088000000004,
          37.739335,
          34.038451,
          25.627093,
          28.565889,
          25.930963,
          27.463463,
          25.883637,
          36.162402,
          28.565596000000006,
          25.889494,
          34.011682,
          28.426273,
          34.2958295343671,
          37.68949,
          41.00858330707069,
          33.856485,
          25.808804,
          38.560722,
          36.743626,
          40.619306,
          33.776165,
          38.383409,
          25.447787,
          25.846146,
          33.941178,
          33.614681,
          26.492757,
          28.450901,
          34.067840999999994,
          25.700673,
          36.176465,
          36.158236,
          33.997066,
          25.684798,
          30.448412,
          25.96375,
          28.482056,
          34.070946,
          38.872086,
          25.883821,
          37.65289,
          25.702474,
          45.60003161408615,
          38.51158,
          34.023514,
          32.819795,
          25.94243,
          38.967994,
          25.810388,
          34.1611,
          26.045612096662307,
          28.357449,
          38.879741,
          25.626273,
          33.875911,
          30.494781,
          34.129715999999995,
          26.399773,
          35.798624,
          34.018005,
          34.044825,
          44.849834,
          34.012219,
          25.687316,
          25.686047,
          33.907765000000005,
          34.00490300000001,
          37.201165,
          29.703685,
          25.889368,
          25.925464,
          28.568399,
          41.07950091,
          26.528056,
          25.64297,
          35.891511,
          25.829162,
          38.91678,
          27.269240000000003,
          25.682907,
          27.298799,
          33.954726,
          33.869680166083,
          28.491466,
          34.066026,
          37.78551220875842,
          28.451303000000006,
          25.962998,
          35.387375,
          27.90309548364685,
          38.697632,
          28.518403000000006,
          32.800126,
          28.493741,
          25.932329,
          28.423768,
          45.515485,
          28.577486,
          34.066728000000005,
          33.896214,
          25.760882,
          30.439645,
          25.685223,
          28.597576,
          33.73080611212859,
          25.578347,
          36.89965367299605,
          25.928795,
          25.714607,
          25.671986,
          38.540304,
          35.185344,
          28.412147,
          37.694587,
          26.43128,
          25.959157,
          32.8331029413565,
          25.89866,
          37.74219,
          29.35612320885965,
          33.930913000000004,
          34.006956,
          37.668957,
          25.947289,
          38.357418,
          35.89237199999999,
          30.428478,
          33.870453000000005,
          26.182748,
          38.528465,
          34.026222,
          33.989157,
          44.986123,
          26.547537,
          28.346805,
          33.928169,
          33.968144,
          34.056062,
          25.767173,
          25.807791,
          25.922163,
          30.416931,
          25.80772,
          26.33659958826858,
          36.153457,
          33.796388,
          28.487925,
          25.683839000000006,
          25.689517,
          32.194068,
          34.819857,
          34.139775,
          25.886455,
          25.942684,
          34.140075,
          28.57905,
          25.685528,
          25.937257,
          29.716088,
          25.886527,
          33.724855,
          25.863028,
          34.03372407,
          33.949675,
          25.712975,
          25.880906,
          38.24771,
          28.486998,
          25.899184,
          45.069481,
          25.928132,
          37.659867,
          45.662523
         ],
         "legendgroup": "",
         "lon": [
          -80.332105,
          -81.477678,
          -81.479136,
          -80.38287199999998,
          -81.470923,
          -81.400388,
          -84.391209,
          -81.400159,
          -81.470943,
          -80.20638585,
          -77.47882800000002,
          -80.335813,
          -80.382101,
          -73.927777,
          -118.274582,
          -81.49181,
          -82.573305,
          -80.302918,
          -80.163146,
          -80.245746,
          -81.45146899999997,
          -80.382427,
          -78.675899,
          -80.41645,
          -80.154122,
          -80.41642900000002,
          -73.929906,
          -76.98214300000002,
          -80.163416,
          -86.774774,
          -80.153943,
          -80.21260600000002,
          -80.400559,
          -80.30708800000002,
          -80.331645,
          -118.228279,
          -118.272635,
          -80.206385,
          -80.382491,
          -82.0925366874595,
          -77.179063,
          -75.15545,
          -80.309213,
          -91.12477,
          -80.188672,
          -80.211189,
          -80.333047,
          -117.563705,
          -80.210076,
          -117.54495,
          -80.303919,
          -73.96600000000002,
          -86.73865699999998,
          -86.731852,
          -80.188806,
          -80.21007657,
          -80.190574,
          -86.759833,
          -80.355278,
          -80.190506,
          -73.930479,
          -78.68037699999998,
          -81.365963,
          -80.313148,
          -80.317718,
          -80.414505,
          -122.303047,
          -117.571285,
          -118.02102,
          -81.451796,
          -73.903086,
          -80.169749,
          -80.205365,
          -80.335788,
          -80.41644000000002,
          -80.416652,
          -80.337062,
          -81.396664,
          -80.14191600000002,
          -81.448734,
          -118.474797,
          -80.189662,
          -80.12176099999998,
          -81.494599,
          -80.319197,
          -80.33314200000002,
          -80.31085300000002,
          -80.33499599999998,
          -81.477807,
          -78.561738,
          -80.18996700000002,
          -80.876029,
          -80.41669,
          -80.248667,
          -81.469791,
          -80.381146,
          -78.679322,
          -80.171996,
          -78.675063,
          -80.41639599999998,
          -81.417358,
          -77.469545,
          -80.354562,
          -80.3418,
          -80.38217900000002,
          -80.303949,
          -117.88268,
          -73.91829399999997,
          -81.47777099999998,
          -80.147246,
          -86.732024,
          -122.405755,
          -86.758278,
          -85.66967,
          -81.396918,
          -80.165094,
          -119.793956,
          -81.400598,
          -81.409591,
          -73.965693,
          -80.190478,
          -117.56524444,
          -80.295275,
          -80.188624,
          -80.12182800000002,
          -81.40056,
          -80.209907,
          -81.47993000000002,
          -80.337124,
          -80.188048,
          -81.477791,
          -80.165745,
          -81.476099,
          -78.562477,
          -82.57080699999999,
          -81.78012199999998,
          -80.184467,
          -80.334766,
          -78.682802,
          -81.475727,
          -80.166514,
          -73.930366,
          -80.148812,
          -81.429064,
          -117.325059,
          -80.415318,
          -80.72327800000002,
          -80.24296700000002,
          -81.400468,
          -80.164451,
          -80.164713,
          -118.214925,
          -80.334553,
          -80.33806899999998,
          -80.16566999999998,
          -80.168475,
          -80.18226999999997,
          -118.214107,
          -80.416411,
          -80.384015,
          -80.795212,
          -80.367676,
          -80.121872,
          -80.16583085,
          -81.47613100000002,
          -118.286764,
          -77.47760500000003,
          -80.413044,
          -81.20780400000002,
          -80.30295,
          -80.16469599999998,
          -80.243217,
          -80.384231,
          -80.335312,
          -80.24470500000002,
          -80.35433499999998,
          -80.148765,
          -121.474073,
          -118.272653,
          -80.333946,
          -80.366883,
          -117.930643,
          -80.41717,
          -80.189184,
          -118.061471,
          -80.365879,
          -81.41856999999997,
          -80.261645,
          -80.341342,
          -77.170887,
          -80.371183,
          -118.030988,
          -80.186559,
          -74.057765,
          -82.497632,
          -86.776057,
          -80.395587,
          -118.62272143307388,
          -81.404655,
          -78.68062900000002,
          -117.82207131,
          -80.361159,
          -80.205394,
          -80.313379,
          -80.306811,
          -77.50947833024257,
          -122.366974,
          -82.28576600000002,
          -118.096502,
          -80.41441400000002,
          -80.294666,
          -80.32444,
          -78.564184,
          -82.310249,
          -80.416025,
          -80.164039,
          -80.383957,
          -77.48010699999998,
          -118.286454,
          -81.419402,
          -80.415251,
          -78.679789,
          -82.73877,
          -81.49542,
          -80.164221,
          -80.181294,
          -82.52918299999997,
          -81.476138,
          -73.92514399999997,
          -77.48382,
          -80.87602199999998,
          -80.292374,
          -80.188855,
          -118.286382,
          -81.404776,
          -122.17327,
          -80.1887,
          -81.479424,
          -80.414261,
          -80.428666,
          -78.676591,
          -82.530535,
          -80.35042800000002,
          -80.121862,
          -81.31318,
          -118.164841,
          -80.33629599999998,
          -117.67154574,
          -80.182822,
          -80.335697,
          -80.285439,
          -81.399952,
          -91.138463,
          -81.42019300000003,
          -80.380507,
          -80.186409,
          -80.162851,
          -80.242384,
          -118.079466,
          -81.39912199999998,
          -81.402794,
          -81.786186,
          -117.903909,
          -118.21497,
          -81.47766,
          -122.661725,
          -80.33628399999998,
          -80.33571500000002,
          -80.188313,
          -122.54358,
          -80.33769000000002,
          -80.365895,
          -81.80828299999997,
          -122.124294,
          -118.161907,
          -122.216843,
          -80.332065,
          -86.780384,
          -80.414796,
          -80.313412,
          -82.18997900000002,
          -118.231589,
          -80.430098,
          -80.242974,
          -117.841825,
          -80.164575,
          -117.645442,
          -118.222395,
          -118.457943,
          -117.93046499999998,
          -80.16574502,
          -80.394712,
          -82.497665,
          -78.67896999999998,
          -82.524873,
          -80.368004,
          -80.427401,
          -73.959099,
          -80.206008,
          -81.459929,
          -96.626514,
          -81.470888,
          -86.777733,
          -80.165463,
          -80.395911,
          -81.47081800000002,
          -80.200342,
          -122.051591,
          -91.145824,
          -81.403312,
          -80.337365,
          -80.16431700000003,
          -117.6716,
          -82.738771,
          -80.164811,
          -80.355719,
          -86.712689,
          -80.31311600000002,
          -73.836276,
          -81.643828,
          -78.583549,
          -80.193826,
          -80.189584,
          -80.154219,
          -80.334305,
          -76.406869,
          -117.472966,
          -81.209623,
          -77.378039,
          -81.37246999999998,
          -117.550168,
          -80.243208,
          -80.429422,
          -81.39675600000002,
          -80.18821700000002,
          -81.80765799999998,
          -80.30678,
          -78.67847900000002,
          -80.416237,
          -80.313137,
          -117.288457,
          -91.071397,
          -80.335894,
          -80.39527199999998,
          -80.250772,
          -80.33587299999998,
          -118.280502,
          -81.49074,
          -118.279674,
          -80.416687,
          -80.383572,
          -86.774749,
          -94.566021,
          -86.780963,
          -77.38046899999998,
          -80.188322,
          -80.334621,
          -118.221915,
          -77.018217,
          -80.205311,
          -80.16624300000002,
          -80.203561,
          -80.24238199999998,
          -80.382162,
          -80.307124,
          -80.188317,
          -80.419588,
          -81.805612,
          -80.418423,
          -80.165737,
          -78.56076,
          -80.317114,
          -91.108171,
          -80.335534,
          -121.464453,
          -81.400216,
          -122.101569,
          -80.41471800000002,
          -81.31222199999998,
          -110.76711058563819,
          -80.400574,
          -78.566188,
          -80.335763,
          -80.16583,
          -81.399457,
          -122.308246,
          -80.166149,
          -80.205963,
          -80.16888900000002,
          -81.48089499999998,
          -118.015026,
          -77.43549399999998,
          -81.40712099999998,
          -80.333988,
          -80.167252,
          -118.164896,
          -118.231222,
          -81.404779,
          -78.680541,
          -118.172382,
          -80.351962,
          -73.9702,
          -118.473351,
          -80.382178,
          -78.562793,
          -81.207339,
          -80.36911500000002,
          -118.284854,
          -81.404635,
          -80.350889,
          -80.829296,
          -80.32404,
          -90.089961,
          -82.528398,
          -75.35072199999998,
          -82.276658,
          -80.154498,
          -110.988503,
          -81.344658,
          -80.211893,
          -117.403205,
          -122.404898,
          -78.677142,
          -84.404615,
          -80.41640100000002,
          -80.161937,
          -75.102027,
          -80.164008,
          -122.67823,
          -117.431756,
          -82.530501,
          -80.187688,
          -80.418839,
          -81.423723,
          -81.364446,
          -80.35014,
          -80.355039,
          -81.642907,
          -80.336836,
          -81.404628,
          -81.41595600000002,
          -80.38216800000002,
          -80.121845,
          -81.449477,
          -78.680284,
          -118.009887,
          -80.21027,
          -122.25303999999998,
          -77.44394659959104,
          -96.798084,
          -81.46547199999998,
          -80.256345,
          -80.851609,
          -96.82466,
          -80.15433900000002,
          -77.22640899999998,
          -80.188547,
          -77.43436,
          -80.382114,
          -81.404754,
          -81.423153,
          -80.335885,
          -81.481045,
          -80.19250500000003,
          -118.107561,
          -81.47086800000002,
          -77.178637,
          -80.380549,
          -81.460357,
          -118.404566,
          -80.393987,
          -80.334137,
          -80.24322,
          -117.58678700000002,
          -118.278801,
          -81.40478399999998,
          -80.383129,
          -80.378998,
          -80.33247800000002,
          -80.33583,
          -118.101127,
          -80.157878,
          -122.294673,
          -81.404779,
          -80.915192,
          -81.400717,
          -80.24203299999998,
          -80.41469000000002,
          -81.294413,
          -80.41592,
          -80.24910899999998,
          -123.87196000000002,
          -117.218869,
          -80.162038,
          -93.729804,
          -81.460447,
          -80.242363,
          -80.38233699999998,
          -80.41241600000002,
          -80.413965,
          -77.428505,
          -81.404785,
          -80.319411,
          -80.413329,
          -82.445365,
          -117.299073,
          -86.712863,
          -80.293364,
          -117.875534,
          -81.365493,
          -73.952048,
          -82.57540999999998,
          -80.243229,
          -80.13650200000002,
          -80.431229,
          -80.293485,
          -80.151522,
          -80.151248,
          -119.807728,
          -81.493606,
          -76.34121537172155,
          -86.7233,
          -81.706324,
          -80.12179499999998,
          -80.291205,
          -76.25745,
          -80.416415,
          -81.206435,
          -81.447505,
          -117.674068,
          -76.453717,
          -81.807037,
          -118.005909,
          -81.404464,
          -80.20638585052392,
          -80.245421,
          -81.483435,
          -82.111915,
          -80.236108,
          -118.47146399999998,
          -80.84999499999998,
          -118.505506,
          -118.27671,
          -80.18243299999997,
          -81.47081800000002,
          -80.39741500000002,
          -81.404388,
          -118.167854,
          -80.122384,
          -80.341566,
          -80.84966700000003,
          -122.405257,
          -80.14745500000002,
          -81.330857,
          -81.436207,
          -77.39085899999998,
          -80.430686,
          -80.312034,
          -80.36771800000002,
          -80.32458100000002,
          -80.382118,
          -80.336387,
          -80.188344,
          -117.70305,
          -80.876024,
          -90.090561,
          -73.925967,
          -95.500823,
          -81.505319,
          -118.05396100000002,
          -77.238095,
          -86.62428,
          -81.504651,
          -76.195536,
          -122.297583,
          -117.87611,
          -80.30677299999998,
          -81.806251,
          -80.368853,
          -81.20678000000002,
          -80.33341300000002,
          -77.246792,
          -81.39693100000002,
          -81.458805,
          -117.283179,
          -117.959244,
          -80.335882,
          -87.222567,
          -118.272818,
          -80.192797,
          -80.207441,
          -80.184336,
          -122.134411,
          -81.413973,
          -80.149636,
          -122.259817,
          -94.564874,
          -81.400087,
          -80.347313,
          -81.47573299999998,
          -117.909179,
          -80.35084,
          -81.40479,
          -80.369146,
          -80.16134100000002,
          -80.16282678,
          -78.65395699999998,
          -86.75663399999998,
          -86.713363,
          -118.162393,
          -118.471158,
          -80.15508100000002,
          -118.007686,
          -118.012453,
          -117.695575,
          -80.30846700000002,
          -82.348826,
          -117.361083,
          -76.197475,
          -80.33425600000002,
          -80.16494200000002,
          -93.303545,
          -80.370885,
          -117.79064,
          -80.370664,
          -80.38217900000002,
          -81.30754499999998,
          -81.40002700000002,
          -80.167179,
          -78.581693,
          -80.19982900000002,
          -80.35282,
          -80.415521,
          -80.38799200000003,
          -81.42847900000002,
          -80.370795,
          -91.270586,
          -122.662158,
          -122.36464,
          -121.478187,
          -117.451457,
          -91.136099,
          -80.19726899999998,
          -81.479337,
          -117.883722,
          -118.451575,
          -80.381075,
          -80.165592,
          -80.431221,
          -117.565244,
          -80.33259699999998,
          -81.40479300000001,
          -85.20186600000002,
          -117.931718,
          -117.641444,
          -81.399773,
          -81.407533,
          -80.356751,
          -80.41476800000002,
          -80.35254300000003,
          -117.680551,
          -81.364453,
          -81.47089799999998,
          -81.475728,
          -80.111136,
          -118.28594,
          -80.888674,
          -117.29826,
          -118.20989,
          -104.98823762,
          -91.166209,
          -81.47570999999998,
          -77.050676,
          -80.25908199999998,
          -79.797096,
          -91.138497,
          -80.414624,
          -80.33572099999998,
          -77.454274,
          -80.20533,
          -80.96418499907988,
          -80.37835799999998,
          -118.000208,
          -95.537914,
          -121.473675,
          -82.326554,
          -80.20930200000002,
          -81.504859,
          -80.150675,
          -117.331037,
          -80.378869,
          -118.07237506,
          -122.115387,
          -82.40187900000002,
          -80.157545,
          -80.317135,
          -81.396745,
          -82.186189,
          -81.48013900000002,
          -81.210233,
          -117.744831,
          -81.286012,
          -82.21593399999998,
          -81.468858,
          -112.202765,
          -117.285134,
          -118.171158,
          -87.222371,
          -117.433024,
          -81.54612900000002,
          -80.306794,
          -81.396763,
          -73.82854300000002,
          -73.971816,
          -121.448376,
          -80.2066,
          -80.365882,
          -80.334288,
          -110.84108700000002,
          -81.40653499999998,
          -117.39112,
          -118.223817,
          -81.47094200000002,
          -82.10120699999997,
          -81.220375,
          -110.83169817871651,
          -81.40349,
          -118.279723,
          -81.417537,
          -118.210009,
          -80.180812,
          -118.413771,
          -80.414419,
          -118.164984,
          -81.475778,
          -77.42814399999997,
          -78.58235400000002,
          -80.163545,
          -82.502024,
          -82.2768,
          -118.064284,
          -80.334038,
          -81.64471,
          -95.537932,
          -81.286006,
          -81.399851,
          -80.39960699999997,
          -117.8145,
          -118.25428,
          -76.27205729448188,
          -80.33507900000002,
          -80.191946,
          -118.144316,
          -117.67892718,
          -80.148699,
          -77.122782,
          -110.88901162094645,
          -80.416422,
          -80.38252800000002,
          -80.415222,
          -82.505385,
          -80.165627,
          -81.396765,
          -118.092917,
          -81.777589,
          -80.16140899999998,
          -81.398222,
          -121.47398,
          -81.207657,
          -117.579993,
          -80.242938,
          -81.842427,
          -118.333579,
          -81.404787,
          -80.302187,
          -82.58755500000002,
          -111.986208,
          -117.621385,
          -73.838321,
          -86.809997,
          -77.053794,
          -90.178258,
          -80.15794100000002,
          -118.10832,
          -80.16800699999997,
          -73.067545,
          -80.265337,
          -77.253209,
          -95.886306,
          -81.415176,
          -117.981357,
          -80.369863,
          -80.382204,
          -78.560478,
          -80.379671,
          -80.212239,
          -86.733467,
          -80.13255,
          -80.41524,
          -118.446773,
          -80.209959,
          -93.287549,
          -95.500824,
          -118.235073,
          -80.162572,
          -80.36428199999997,
          -111.90353036,
          -81.396745,
          -80.41873100000002,
          -81.418423,
          -117.79065,
          -80.418491,
          -76.983115,
          -77.013359,
          -80.333922,
          -74.21083,
          -95.476568,
          -117.906247,
          -81.28600899999998,
          -77.224142,
          -81.46001600000002,
          -81.399799,
          -80.43012900000002,
          -80.16495,
          -81.789695,
          -119.82460856380544,
          -117.909208,
          -121.59082,
          -118.274001,
          -80.38489,
          -81.286078,
          -80.204789,
          -82.587601,
          -80.243199,
          -86.778085,
          -81.20740699999998,
          -80.16233199999998,
          -117.345138,
          -81.40463299999998,
          -117.45540261212608,
          -122.103998,
          -76.2433254715145,
          -117.785579,
          -80.24979,
          -121.480876,
          -119.809869,
          -74.023537,
          -84.595549,
          -77.449931,
          -80.475912,
          -80.240804,
          -118.096711,
          -117.707783,
          -81.805756,
          -81.370763,
          -117.517179,
          -80.381158,
          -86.80070699999997,
          -86.77534,
          -117.93118,
          -80.431106,
          -91.249307,
          -80.147421,
          -81.45870500000002,
          -118.145631,
          -76.981592,
          -80.16543,
          -77.611345,
          -80.33150699999999,
          -118.50378155651804,
          -77.376369,
          -118.044087,
          -96.87498,
          -80.305887,
          -77.179859,
          -80.15029200000002,
          -118.469614,
          -80.16282677612226,
          -81.495717,
          -77.24168900000002,
          -80.382212,
          -118.168782,
          -87.22224399999998,
          -117.933687,
          -80.090411,
          -78.564963,
          -118.239665,
          -118.216047,
          -93.298061,
          -118.418573,
          -80.384433,
          -80.397987,
          -118.181656,
          -117.930245,
          -80.267042,
          -95.53791,
          -80.206795,
          -80.29233,
          -81.284728,
          -73.92190576,
          -81.869772,
          -80.334434,
          -78.56056600000002,
          -80.249177,
          -76.93264,
          -82.498888,
          -80.41640799999998,
          -82.498568,
          -117.305097,
          -117.67154574338116,
          -81.396739,
          -117.396148,
          -122.39141821802906,
          -81.470828,
          -80.15742900000002,
          -119.044631,
          -82.6360166068905,
          -77.225825,
          -81.28935600000001,
          -96.822272,
          -81.461027,
          -80.293591,
          -81.404781,
          -122.693263,
          -81.476862,
          -117.220861,
          -118.187654,
          -80.39381800000002,
          -91.200141,
          -80.417573,
          -81.297676,
          -117.39884018842028,
          -80.369697,
          -76.42417073213373,
          -80.211691,
          -80.413569,
          -80.38261899999998,
          -77.34916199999998,
          -80.898465,
          -81.423594,
          -122.143773,
          -81.809216,
          -80.169381,
          -117.23307967130071,
          -80.382801,
          -121.525634,
          -82.22184061964883,
          -118.17868,
          -117.964227,
          -122.109386,
          -80.152018,
          -77.47285699999998,
          -78.558448,
          -91.171347,
          -118.056019,
          -80.152419,
          -121.469389,
          -117.333453,
          -118.285657,
          -93.288581,
          -81.784631,
          -81.651224,
          -118.239164,
          -118.167655,
          -117.546582,
          -80.36882800000002,
          -80.305909,
          -80.30920400000002,
          -91.144342,
          -80.313141,
          -81.75110220870137,
          -86.764431,
          -84.393405,
          -81.417511,
          -80.40053499999998,
          -80.365911,
          -110.858029,
          -82.26783499999998,
          -80.91598,
          -80.21079499999998,
          -80.203142,
          -80.911808,
          -81.476118,
          -80.446117,
          -80.197469,
          -95.538889,
          -80.164526,
          -117.83571299999998,
          -80.322622,
          -118.43672633,
          -118.170308,
          -80.382449,
          -80.226609,
          -122.270054,
          -81.416443,
          -80.191929,
          -93.293681,
          -80.293405,
          -122.103737,
          -108.769542
         ],
         "marker": {
          "color": [
           357,
           354,
           323,
           313,
           309,
           300,
           297,
           273,
           270,
           261,
           260,
           259,
           258,
           256,
           254,
           251,
           245,
           243,
           242,
           236,
           235,
           233,
           233,
           232,
           232,
           230,
           230,
           229,
           229,
           229,
           228,
           223,
           220,
           220,
           213,
           213,
           212,
           211,
           209,
           207,
           207,
           205,
           200,
           198,
           195,
           194,
           194,
           194,
           194,
           193,
           193,
           190,
           189,
           187,
           187,
           186,
           185,
           185,
           184,
           183,
           180,
           180,
           177,
           176,
           175,
           174,
           173,
           173,
           172,
           172,
           171,
           171,
           170,
           170,
           169,
           169,
           167,
           165,
           165,
           164,
           163,
           162,
           162,
           162,
           161,
           160,
           160,
           160,
           159,
           158,
           157,
           157,
           157,
           157,
           157,
           155,
           155,
           154,
           154,
           153,
           153,
           151,
           151,
           150,
           148,
           148,
           147,
           146,
           145,
           145,
           144,
           143,
           142,
           141,
           141,
           141,
           140,
           140,
           140,
           139,
           138,
           138,
           138,
           137,
           137,
           136,
           135,
           135,
           135,
           135,
           135,
           135,
           134,
           133,
           133,
           133,
           132,
           132,
           132,
           131,
           131,
           131,
           130,
           130,
           129,
           129,
           127,
           126,
           126,
           126,
           125,
           125,
           125,
           125,
           125,
           125,
           125,
           125,
           124,
           124,
           124,
           124,
           124,
           123,
           122,
           122,
           122,
           122,
           122,
           121,
           121,
           121,
           121,
           121,
           120,
           120,
           120,
           120,
           120,
           120,
           119,
           119,
           119,
           119,
           118,
           118,
           118,
           118,
           118,
           118,
           117,
           116,
           116,
           116,
           116,
           116,
           116,
           115,
           115,
           115,
           115,
           115,
           115,
           115,
           115,
           115,
           115,
           115,
           115,
           114,
           114,
           114,
           113,
           113,
           113,
           113,
           113,
           113,
           112,
           112,
           112,
           111,
           111,
           111,
           111,
           110,
           110,
           110,
           110,
           110,
           110,
           109,
           109,
           109,
           109,
           109,
           108,
           108,
           107,
           107,
           107,
           107,
           107,
           106,
           106,
           106,
           106,
           106,
           106,
           105,
           105,
           105,
           105,
           105,
           104,
           104,
           104,
           104,
           104,
           103,
           103,
           103,
           103,
           103,
           102,
           102,
           102,
           102,
           102,
           102,
           102,
           102,
           102,
           101,
           101,
           101,
           101,
           101,
           100,
           100,
           100,
           100,
           100,
           100,
           100,
           100,
           99,
           99,
           99,
           99,
           99,
           99,
           99,
           99,
           99,
           99,
           99,
           99,
           99,
           99,
           99,
           99,
           99,
           99,
           98,
           98,
           98,
           98,
           98,
           98,
           98,
           98,
           98,
           97,
           97,
           97,
           97,
           97,
           97,
           97,
           97,
           97,
           97,
           96,
           96,
           96,
           96,
           96,
           96,
           96,
           96,
           96,
           96,
           96,
           96,
           96,
           95,
           95,
           95,
           95,
           95,
           95,
           95,
           95,
           95,
           95,
           95,
           95,
           95,
           94,
           94,
           94,
           94,
           94,
           94,
           94,
           94,
           94,
           94,
           94,
           94,
           94,
           94,
           93,
           93,
           93,
           93,
           93,
           93,
           93,
           93,
           93,
           93,
           92,
           92,
           92,
           92,
           92,
           92,
           92,
           92,
           92,
           92,
           92,
           91,
           91,
           91,
           91,
           91,
           91,
           91,
           90,
           90,
           90,
           90,
           90,
           90,
           90,
           90,
           90,
           90,
           90,
           90,
           90,
           90,
           90,
           89,
           89,
           89,
           89,
           89,
           89,
           89,
           89,
           89,
           89,
           88,
           88,
           88,
           88,
           88,
           88,
           88,
           88,
           88,
           88,
           88,
           88,
           88,
           88,
           87,
           87,
           87,
           87,
           87,
           87,
           87,
           87,
           86,
           86,
           86,
           86,
           86,
           86,
           86,
           86,
           86,
           86,
           85,
           85,
           85,
           85,
           85,
           85,
           85,
           85,
           85,
           85,
           85,
           85,
           85,
           85,
           84,
           84,
           84,
           84,
           84,
           84,
           84,
           84,
           84,
           84,
           84,
           84,
           84,
           84,
           84,
           83,
           83,
           83,
           83,
           83,
           83,
           83,
           83,
           83,
           83,
           83,
           83,
           83,
           83,
           83,
           82,
           82,
           82,
           82,
           82,
           82,
           82,
           82,
           82,
           82,
           82,
           81,
           81,
           81,
           81,
           81,
           81,
           81,
           81,
           81,
           81,
           81,
           81,
           81,
           81,
           80,
           80,
           80,
           80,
           80,
           80,
           80,
           80,
           80,
           80,
           80,
           80,
           80,
           80,
           80,
           80,
           80,
           80,
           80,
           79,
           79,
           79,
           79,
           79,
           79,
           79,
           79,
           79,
           79,
           79,
           79,
           79,
           79,
           79,
           79,
           79,
           78,
           78,
           78,
           78,
           78,
           78,
           78,
           78,
           78,
           78,
           78,
           78,
           78,
           77,
           77,
           77,
           77,
           77,
           77,
           77,
           77,
           77,
           77,
           77,
           77,
           77,
           77,
           77,
           77,
           77,
           77,
           77,
           77,
           77,
           77,
           77,
           77,
           77,
           76,
           76,
           76,
           76,
           76,
           76,
           76,
           76,
           76,
           76,
           76,
           76,
           76,
           76,
           75,
           75,
           75,
           75,
           75,
           75,
           75,
           75,
           75,
           75,
           75,
           75,
           75,
           75,
           75,
           75,
           75,
           75,
           75,
           75,
           75,
           75,
           75,
           75,
           74,
           74,
           74,
           74,
           74,
           74,
           74,
           74,
           74,
           74,
           74,
           74,
           74,
           74,
           74,
           74,
           73,
           73,
           73,
           73,
           73,
           73,
           73,
           73,
           73,
           73,
           73,
           73,
           73,
           73,
           73,
           72,
           72,
           72,
           72,
           72,
           72,
           72,
           72,
           72,
           72,
           72,
           72,
           72,
           72,
           72,
           72,
           72,
           72,
           72,
           72,
           72,
           72,
           72,
           72,
           72,
           72,
           72,
           72,
           72,
           71,
           71,
           71,
           71,
           71,
           71,
           71,
           71,
           71,
           71,
           71,
           71,
           71,
           71,
           71,
           71,
           71,
           71,
           71,
           71,
           71,
           71,
           71,
           71,
           71,
           71,
           71,
           71,
           70,
           70,
           70,
           70,
           70,
           70,
           70,
           70,
           70,
           70,
           70,
           70,
           70,
           70,
           70,
           70,
           70,
           70,
           70,
           70,
           70,
           70,
           70,
           70,
           70,
           70,
           70,
           70,
           70,
           70,
           70,
           70,
           69,
           69,
           69,
           69,
           69,
           69,
           69,
           69,
           69,
           69,
           69,
           69,
           69,
           69,
           69,
           69,
           69,
           69,
           69,
           69,
           69,
           69,
           69,
           69,
           68,
           68,
           68,
           68,
           68,
           68,
           68,
           68,
           68,
           68,
           68,
           68,
           68,
           68,
           68,
           68,
           68,
           68,
           68,
           68,
           68,
           68,
           68,
           68,
           68,
           68,
           68,
           67,
           67,
           67,
           67,
           67,
           67,
           67,
           67,
           67,
           67,
           67,
           67,
           67,
           67,
           67,
           67,
           67,
           67,
           67,
           67,
           67,
           67,
           67,
           67,
           67,
           67,
           67,
           67,
           67,
           66,
           66,
           66,
           66,
           66,
           66,
           66,
           66,
           66,
           66,
           66,
           66,
           66,
           66,
           66,
           66,
           66,
           66,
           66,
           66,
           66,
           66,
           66,
           66,
           66,
           66,
           66,
           66,
           66,
           66,
           66,
           65,
           65,
           65,
           65,
           65,
           65,
           65,
           65,
           65,
           65,
           65,
           65,
           65,
           65,
           65,
           65,
           65,
           65,
           65,
           65,
           65,
           65,
           65,
           65,
           65,
           65,
           65,
           65,
           65,
           65,
           64,
           64,
           64,
           64,
           64,
           64,
           64,
           64,
           64,
           64,
           64,
           64,
           64,
           64,
           64,
           64,
           64,
           64,
           64,
           64,
           64,
           64,
           64,
           64,
           64,
           64,
           64,
           64,
           64,
           64,
           64,
           64,
           64,
           64,
           64,
           64,
           64,
           63,
           63,
           63,
           63,
           63,
           63,
           63,
           63,
           63,
           63,
           63,
           63,
           63,
           63,
           63,
           63,
           63,
           63,
           63,
           63,
           63,
           63,
           63,
           63,
           63,
           63,
           63,
           63,
           63,
           63,
           63,
           63,
           63,
           63,
           63,
           63,
           63,
           63,
           62,
           62,
           62,
           62,
           62,
           62,
           62,
           62,
           62,
           62,
           62,
           62,
           62,
           62,
           62,
           62,
           62,
           62,
           62,
           62,
           62,
           62,
           62,
           62,
           62,
           62,
           62,
           62,
           62,
           62,
           62,
           62,
           61,
           61,
           61
          ],
          "coloraxis": "coloraxis",
          "size": [
           357,
           354,
           323,
           313,
           309,
           300,
           297,
           273,
           270,
           261,
           260,
           259,
           258,
           256,
           254,
           251,
           245,
           243,
           242,
           236,
           235,
           233,
           233,
           232,
           232,
           230,
           230,
           229,
           229,
           229,
           228,
           223,
           220,
           220,
           213,
           213,
           212,
           211,
           209,
           207,
           207,
           205,
           200,
           198,
           195,
           194,
           194,
           194,
           194,
           193,
           193,
           190,
           189,
           187,
           187,
           186,
           185,
           185,
           184,
           183,
           180,
           180,
           177,
           176,
           175,
           174,
           173,
           173,
           172,
           172,
           171,
           171,
           170,
           170,
           169,
           169,
           167,
           165,
           165,
           164,
           163,
           162,
           162,
           162,
           161,
           160,
           160,
           160,
           159,
           158,
           157,
           157,
           157,
           157,
           157,
           155,
           155,
           154,
           154,
           153,
           153,
           151,
           151,
           150,
           148,
           148,
           147,
           146,
           145,
           145,
           144,
           143,
           142,
           141,
           141,
           141,
           140,
           140,
           140,
           139,
           138,
           138,
           138,
           137,
           137,
           136,
           135,
           135,
           135,
           135,
           135,
           135,
           134,
           133,
           133,
           133,
           132,
           132,
           132,
           131,
           131,
           131,
           130,
           130,
           129,
           129,
           127,
           126,
           126,
           126,
           125,
           125,
           125,
           125,
           125,
           125,
           125,
           125,
           124,
           124,
           124,
           124,
           124,
           123,
           122,
           122,
           122,
           122,
           122,
           121,
           121,
           121,
           121,
           121,
           120,
           120,
           120,
           120,
           120,
           120,
           119,
           119,
           119,
           119,
           118,
           118,
           118,
           118,
           118,
           118,
           117,
           116,
           116,
           116,
           116,
           116,
           116,
           115,
           115,
           115,
           115,
           115,
           115,
           115,
           115,
           115,
           115,
           115,
           115,
           114,
           114,
           114,
           113,
           113,
           113,
           113,
           113,
           113,
           112,
           112,
           112,
           111,
           111,
           111,
           111,
           110,
           110,
           110,
           110,
           110,
           110,
           109,
           109,
           109,
           109,
           109,
           108,
           108,
           107,
           107,
           107,
           107,
           107,
           106,
           106,
           106,
           106,
           106,
           106,
           105,
           105,
           105,
           105,
           105,
           104,
           104,
           104,
           104,
           104,
           103,
           103,
           103,
           103,
           103,
           102,
           102,
           102,
           102,
           102,
           102,
           102,
           102,
           102,
           101,
           101,
           101,
           101,
           101,
           100,
           100,
           100,
           100,
           100,
           100,
           100,
           100,
           99,
           99,
           99,
           99,
           99,
           99,
           99,
           99,
           99,
           99,
           99,
           99,
           99,
           99,
           99,
           99,
           99,
           99,
           98,
           98,
           98,
           98,
           98,
           98,
           98,
           98,
           98,
           97,
           97,
           97,
           97,
           97,
           97,
           97,
           97,
           97,
           97,
           96,
           96,
           96,
           96,
           96,
           96,
           96,
           96,
           96,
           96,
           96,
           96,
           96,
           95,
           95,
           95,
           95,
           95,
           95,
           95,
           95,
           95,
           95,
           95,
           95,
           95,
           94,
           94,
           94,
           94,
           94,
           94,
           94,
           94,
           94,
           94,
           94,
           94,
           94,
           94,
           93,
           93,
           93,
           93,
           93,
           93,
           93,
           93,
           93,
           93,
           92,
           92,
           92,
           92,
           92,
           92,
           92,
           92,
           92,
           92,
           92,
           91,
           91,
           91,
           91,
           91,
           91,
           91,
           90,
           90,
           90,
           90,
           90,
           90,
           90,
           90,
           90,
           90,
           90,
           90,
           90,
           90,
           90,
           89,
           89,
           89,
           89,
           89,
           89,
           89,
           89,
           89,
           89,
           88,
           88,
           88,
           88,
           88,
           88,
           88,
           88,
           88,
           88,
           88,
           88,
           88,
           88,
           87,
           87,
           87,
           87,
           87,
           87,
           87,
           87,
           86,
           86,
           86,
           86,
           86,
           86,
           86,
           86,
           86,
           86,
           85,
           85,
           85,
           85,
           85,
           85,
           85,
           85,
           85,
           85,
           85,
           85,
           85,
           85,
           84,
           84,
           84,
           84,
           84,
           84,
           84,
           84,
           84,
           84,
           84,
           84,
           84,
           84,
           84,
           83,
           83,
           83,
           83,
           83,
           83,
           83,
           83,
           83,
           83,
           83,
           83,
           83,
           83,
           83,
           82,
           82,
           82,
           82,
           82,
           82,
           82,
           82,
           82,
           82,
           82,
           81,
           81,
           81,
           81,
           81,
           81,
           81,
           81,
           81,
           81,
           81,
           81,
           81,
           81,
           80,
           80,
           80,
           80,
           80,
           80,
           80,
           80,
           80,
           80,
           80,
           80,
           80,
           80,
           80,
           80,
           80,
           80,
           80,
           79,
           79,
           79,
           79,
           79,
           79,
           79,
           79,
           79,
           79,
           79,
           79,
           79,
           79,
           79,
           79,
           79,
           78,
           78,
           78,
           78,
           78,
           78,
           78,
           78,
           78,
           78,
           78,
           78,
           78,
           77,
           77,
           77,
           77,
           77,
           77,
           77,
           77,
           77,
           77,
           77,
           77,
           77,
           77,
           77,
           77,
           77,
           77,
           77,
           77,
           77,
           77,
           77,
           77,
           77,
           76,
           76,
           76,
           76,
           76,
           76,
           76,
           76,
           76,
           76,
           76,
           76,
           76,
           76,
           75,
           75,
           75,
           75,
           75,
           75,
           75,
           75,
           75,
           75,
           75,
           75,
           75,
           75,
           75,
           75,
           75,
           75,
           75,
           75,
           75,
           75,
           75,
           75,
           74,
           74,
           74,
           74,
           74,
           74,
           74,
           74,
           74,
           74,
           74,
           74,
           74,
           74,
           74,
           74,
           73,
           73,
           73,
           73,
           73,
           73,
           73,
           73,
           73,
           73,
           73,
           73,
           73,
           73,
           73,
           72,
           72,
           72,
           72,
           72,
           72,
           72,
           72,
           72,
           72,
           72,
           72,
           72,
           72,
           72,
           72,
           72,
           72,
           72,
           72,
           72,
           72,
           72,
           72,
           72,
           72,
           72,
           72,
           72,
           71,
           71,
           71,
           71,
           71,
           71,
           71,
           71,
           71,
           71,
           71,
           71,
           71,
           71,
           71,
           71,
           71,
           71,
           71,
           71,
           71,
           71,
           71,
           71,
           71,
           71,
           71,
           71,
           70,
           70,
           70,
           70,
           70,
           70,
           70,
           70,
           70,
           70,
           70,
           70,
           70,
           70,
           70,
           70,
           70,
           70,
           70,
           70,
           70,
           70,
           70,
           70,
           70,
           70,
           70,
           70,
           70,
           70,
           70,
           70,
           69,
           69,
           69,
           69,
           69,
           69,
           69,
           69,
           69,
           69,
           69,
           69,
           69,
           69,
           69,
           69,
           69,
           69,
           69,
           69,
           69,
           69,
           69,
           69,
           68,
           68,
           68,
           68,
           68,
           68,
           68,
           68,
           68,
           68,
           68,
           68,
           68,
           68,
           68,
           68,
           68,
           68,
           68,
           68,
           68,
           68,
           68,
           68,
           68,
           68,
           68,
           67,
           67,
           67,
           67,
           67,
           67,
           67,
           67,
           67,
           67,
           67,
           67,
           67,
           67,
           67,
           67,
           67,
           67,
           67,
           67,
           67,
           67,
           67,
           67,
           67,
           67,
           67,
           67,
           67,
           66,
           66,
           66,
           66,
           66,
           66,
           66,
           66,
           66,
           66,
           66,
           66,
           66,
           66,
           66,
           66,
           66,
           66,
           66,
           66,
           66,
           66,
           66,
           66,
           66,
           66,
           66,
           66,
           66,
           66,
           66,
           65,
           65,
           65,
           65,
           65,
           65,
           65,
           65,
           65,
           65,
           65,
           65,
           65,
           65,
           65,
           65,
           65,
           65,
           65,
           65,
           65,
           65,
           65,
           65,
           65,
           65,
           65,
           65,
           65,
           65,
           64,
           64,
           64,
           64,
           64,
           64,
           64,
           64,
           64,
           64,
           64,
           64,
           64,
           64,
           64,
           64,
           64,
           64,
           64,
           64,
           64,
           64,
           64,
           64,
           64,
           64,
           64,
           64,
           64,
           64,
           64,
           64,
           64,
           64,
           64,
           64,
           64,
           63,
           63,
           63,
           63,
           63,
           63,
           63,
           63,
           63,
           63,
           63,
           63,
           63,
           63,
           63,
           63,
           63,
           63,
           63,
           63,
           63,
           63,
           63,
           63,
           63,
           63,
           63,
           63,
           63,
           63,
           63,
           63,
           63,
           63,
           63,
           63,
           63,
           63,
           62,
           62,
           62,
           62,
           62,
           62,
           62,
           62,
           62,
           62,
           62,
           62,
           62,
           62,
           62,
           62,
           62,
           62,
           62,
           62,
           62,
           62,
           62,
           62,
           62,
           62,
           62,
           62,
           62,
           62,
           62,
           62,
           61,
           61,
           61
          ],
          "sizemode": "area",
          "sizeref": 0.8925
         },
         "mode": "markers",
         "name": "",
         "showlegend": false,
         "subplot": "mapbox",
         "type": "scattermapbox"
        }
       ],
       "layout": {
        "coloraxis": {
         "colorbar": {
          "title": {
           "text": "count"
          }
         },
         "colorscale": [
          [
           0,
           "#0d0887"
          ],
          [
           0.1111111111111111,
           "#46039f"
          ],
          [
           0.2222222222222222,
           "#7201a8"
          ],
          [
           0.3333333333333333,
           "#9c179e"
          ],
          [
           0.4444444444444444,
           "#bd3786"
          ],
          [
           0.5555555555555556,
           "#d8576b"
          ],
          [
           0.6666666666666666,
           "#ed7953"
          ],
          [
           0.7777777777777778,
           "#fb9f3a"
          ],
          [
           0.8888888888888888,
           "#fdca26"
          ],
          [
           1,
           "#f0f921"
          ]
         ]
        },
        "height": 600,
        "legend": {
         "itemsizing": "constant",
         "tracegroupgap": 0
        },
        "mapbox": {
         "center": {
          "lat": 30.404820745758066,
          "lon": -88.93170569979007
         },
         "domain": {
          "x": [
           0,
           1
          ],
          "y": [
           0,
           1
          ]
         },
         "style": "carto-positron",
         "zoom": 3
        },
        "template": {
         "data": {
          "bar": [
           {
            "error_x": {
             "color": "#2a3f5f"
            },
            "error_y": {
             "color": "#2a3f5f"
            },
            "marker": {
             "line": {
              "color": "#E5ECF6",
              "width": 0.5
             },
             "pattern": {
              "fillmode": "overlay",
              "size": 10,
              "solidity": 0.2
             }
            },
            "type": "bar"
           }
          ],
          "barpolar": [
           {
            "marker": {
             "line": {
              "color": "#E5ECF6",
              "width": 0.5
             },
             "pattern": {
              "fillmode": "overlay",
              "size": 10,
              "solidity": 0.2
             }
            },
            "type": "barpolar"
           }
          ],
          "carpet": [
           {
            "aaxis": {
             "endlinecolor": "#2a3f5f",
             "gridcolor": "white",
             "linecolor": "white",
             "minorgridcolor": "white",
             "startlinecolor": "#2a3f5f"
            },
            "baxis": {
             "endlinecolor": "#2a3f5f",
             "gridcolor": "white",
             "linecolor": "white",
             "minorgridcolor": "white",
             "startlinecolor": "#2a3f5f"
            },
            "type": "carpet"
           }
          ],
          "choropleth": [
           {
            "colorbar": {
             "outlinewidth": 0,
             "ticks": ""
            },
            "type": "choropleth"
           }
          ],
          "contour": [
           {
            "colorbar": {
             "outlinewidth": 0,
             "ticks": ""
            },
            "colorscale": [
             [
              0,
              "#0d0887"
             ],
             [
              0.1111111111111111,
              "#46039f"
             ],
             [
              0.2222222222222222,
              "#7201a8"
             ],
             [
              0.3333333333333333,
              "#9c179e"
             ],
             [
              0.4444444444444444,
              "#bd3786"
             ],
             [
              0.5555555555555556,
              "#d8576b"
             ],
             [
              0.6666666666666666,
              "#ed7953"
             ],
             [
              0.7777777777777778,
              "#fb9f3a"
             ],
             [
              0.8888888888888888,
              "#fdca26"
             ],
             [
              1,
              "#f0f921"
             ]
            ],
            "type": "contour"
           }
          ],
          "contourcarpet": [
           {
            "colorbar": {
             "outlinewidth": 0,
             "ticks": ""
            },
            "type": "contourcarpet"
           }
          ],
          "heatmap": [
           {
            "colorbar": {
             "outlinewidth": 0,
             "ticks": ""
            },
            "colorscale": [
             [
              0,
              "#0d0887"
             ],
             [
              0.1111111111111111,
              "#46039f"
             ],
             [
              0.2222222222222222,
              "#7201a8"
             ],
             [
              0.3333333333333333,
              "#9c179e"
             ],
             [
              0.4444444444444444,
              "#bd3786"
             ],
             [
              0.5555555555555556,
              "#d8576b"
             ],
             [
              0.6666666666666666,
              "#ed7953"
             ],
             [
              0.7777777777777778,
              "#fb9f3a"
             ],
             [
              0.8888888888888888,
              "#fdca26"
             ],
             [
              1,
              "#f0f921"
             ]
            ],
            "type": "heatmap"
           }
          ],
          "heatmapgl": [
           {
            "colorbar": {
             "outlinewidth": 0,
             "ticks": ""
            },
            "colorscale": [
             [
              0,
              "#0d0887"
             ],
             [
              0.1111111111111111,
              "#46039f"
             ],
             [
              0.2222222222222222,
              "#7201a8"
             ],
             [
              0.3333333333333333,
              "#9c179e"
             ],
             [
              0.4444444444444444,
              "#bd3786"
             ],
             [
              0.5555555555555556,
              "#d8576b"
             ],
             [
              0.6666666666666666,
              "#ed7953"
             ],
             [
              0.7777777777777778,
              "#fb9f3a"
             ],
             [
              0.8888888888888888,
              "#fdca26"
             ],
             [
              1,
              "#f0f921"
             ]
            ],
            "type": "heatmapgl"
           }
          ],
          "histogram": [
           {
            "marker": {
             "pattern": {
              "fillmode": "overlay",
              "size": 10,
              "solidity": 0.2
             }
            },
            "type": "histogram"
           }
          ],
          "histogram2d": [
           {
            "colorbar": {
             "outlinewidth": 0,
             "ticks": ""
            },
            "colorscale": [
             [
              0,
              "#0d0887"
             ],
             [
              0.1111111111111111,
              "#46039f"
             ],
             [
              0.2222222222222222,
              "#7201a8"
             ],
             [
              0.3333333333333333,
              "#9c179e"
             ],
             [
              0.4444444444444444,
              "#bd3786"
             ],
             [
              0.5555555555555556,
              "#d8576b"
             ],
             [
              0.6666666666666666,
              "#ed7953"
             ],
             [
              0.7777777777777778,
              "#fb9f3a"
             ],
             [
              0.8888888888888888,
              "#fdca26"
             ],
             [
              1,
              "#f0f921"
             ]
            ],
            "type": "histogram2d"
           }
          ],
          "histogram2dcontour": [
           {
            "colorbar": {
             "outlinewidth": 0,
             "ticks": ""
            },
            "colorscale": [
             [
              0,
              "#0d0887"
             ],
             [
              0.1111111111111111,
              "#46039f"
             ],
             [
              0.2222222222222222,
              "#7201a8"
             ],
             [
              0.3333333333333333,
              "#9c179e"
             ],
             [
              0.4444444444444444,
              "#bd3786"
             ],
             [
              0.5555555555555556,
              "#d8576b"
             ],
             [
              0.6666666666666666,
              "#ed7953"
             ],
             [
              0.7777777777777778,
              "#fb9f3a"
             ],
             [
              0.8888888888888888,
              "#fdca26"
             ],
             [
              1,
              "#f0f921"
             ]
            ],
            "type": "histogram2dcontour"
           }
          ],
          "mesh3d": [
           {
            "colorbar": {
             "outlinewidth": 0,
             "ticks": ""
            },
            "type": "mesh3d"
           }
          ],
          "parcoords": [
           {
            "line": {
             "colorbar": {
              "outlinewidth": 0,
              "ticks": ""
             }
            },
            "type": "parcoords"
           }
          ],
          "pie": [
           {
            "automargin": true,
            "type": "pie"
           }
          ],
          "scatter": [
           {
            "fillpattern": {
             "fillmode": "overlay",
             "size": 10,
             "solidity": 0.2
            },
            "type": "scatter"
           }
          ],
          "scatter3d": [
           {
            "line": {
             "colorbar": {
              "outlinewidth": 0,
              "ticks": ""
             }
            },
            "marker": {
             "colorbar": {
              "outlinewidth": 0,
              "ticks": ""
             }
            },
            "type": "scatter3d"
           }
          ],
          "scattercarpet": [
           {
            "marker": {
             "colorbar": {
              "outlinewidth": 0,
              "ticks": ""
             }
            },
            "type": "scattercarpet"
           }
          ],
          "scattergeo": [
           {
            "marker": {
             "colorbar": {
              "outlinewidth": 0,
              "ticks": ""
             }
            },
            "type": "scattergeo"
           }
          ],
          "scattergl": [
           {
            "marker": {
             "colorbar": {
              "outlinewidth": 0,
              "ticks": ""
             }
            },
            "type": "scattergl"
           }
          ],
          "scattermapbox": [
           {
            "marker": {
             "colorbar": {
              "outlinewidth": 0,
              "ticks": ""
             }
            },
            "type": "scattermapbox"
           }
          ],
          "scatterpolar": [
           {
            "marker": {
             "colorbar": {
              "outlinewidth": 0,
              "ticks": ""
             }
            },
            "type": "scatterpolar"
           }
          ],
          "scatterpolargl": [
           {
            "marker": {
             "colorbar": {
              "outlinewidth": 0,
              "ticks": ""
             }
            },
            "type": "scatterpolargl"
           }
          ],
          "scatterternary": [
           {
            "marker": {
             "colorbar": {
              "outlinewidth": 0,
              "ticks": ""
             }
            },
            "type": "scatterternary"
           }
          ],
          "surface": [
           {
            "colorbar": {
             "outlinewidth": 0,
             "ticks": ""
            },
            "colorscale": [
             [
              0,
              "#0d0887"
             ],
             [
              0.1111111111111111,
              "#46039f"
             ],
             [
              0.2222222222222222,
              "#7201a8"
             ],
             [
              0.3333333333333333,
              "#9c179e"
             ],
             [
              0.4444444444444444,
              "#bd3786"
             ],
             [
              0.5555555555555556,
              "#d8576b"
             ],
             [
              0.6666666666666666,
              "#ed7953"
             ],
             [
              0.7777777777777778,
              "#fb9f3a"
             ],
             [
              0.8888888888888888,
              "#fdca26"
             ],
             [
              1,
              "#f0f921"
             ]
            ],
            "type": "surface"
           }
          ],
          "table": [
           {
            "cells": {
             "fill": {
              "color": "#EBF0F8"
             },
             "line": {
              "color": "white"
             }
            },
            "header": {
             "fill": {
              "color": "#C8D4E3"
             },
             "line": {
              "color": "white"
             }
            },
            "type": "table"
           }
          ]
         },
         "layout": {
          "annotationdefaults": {
           "arrowcolor": "#2a3f5f",
           "arrowhead": 0,
           "arrowwidth": 1
          },
          "autotypenumbers": "strict",
          "coloraxis": {
           "colorbar": {
            "outlinewidth": 0,
            "ticks": ""
           }
          },
          "colorscale": {
           "diverging": [
            [
             0,
             "#8e0152"
            ],
            [
             0.1,
             "#c51b7d"
            ],
            [
             0.2,
             "#de77ae"
            ],
            [
             0.3,
             "#f1b6da"
            ],
            [
             0.4,
             "#fde0ef"
            ],
            [
             0.5,
             "#f7f7f7"
            ],
            [
             0.6,
             "#e6f5d0"
            ],
            [
             0.7,
             "#b8e186"
            ],
            [
             0.8,
             "#7fbc41"
            ],
            [
             0.9,
             "#4d9221"
            ],
            [
             1,
             "#276419"
            ]
           ],
           "sequential": [
            [
             0,
             "#0d0887"
            ],
            [
             0.1111111111111111,
             "#46039f"
            ],
            [
             0.2222222222222222,
             "#7201a8"
            ],
            [
             0.3333333333333333,
             "#9c179e"
            ],
            [
             0.4444444444444444,
             "#bd3786"
            ],
            [
             0.5555555555555556,
             "#d8576b"
            ],
            [
             0.6666666666666666,
             "#ed7953"
            ],
            [
             0.7777777777777778,
             "#fb9f3a"
            ],
            [
             0.8888888888888888,
             "#fdca26"
            ],
            [
             1,
             "#f0f921"
            ]
           ],
           "sequentialminus": [
            [
             0,
             "#0d0887"
            ],
            [
             0.1111111111111111,
             "#46039f"
            ],
            [
             0.2222222222222222,
             "#7201a8"
            ],
            [
             0.3333333333333333,
             "#9c179e"
            ],
            [
             0.4444444444444444,
             "#bd3786"
            ],
            [
             0.5555555555555556,
             "#d8576b"
            ],
            [
             0.6666666666666666,
             "#ed7953"
            ],
            [
             0.7777777777777778,
             "#fb9f3a"
            ],
            [
             0.8888888888888888,
             "#fdca26"
            ],
            [
             1,
             "#f0f921"
            ]
           ]
          },
          "colorway": [
           "#636efa",
           "#EF553B",
           "#00cc96",
           "#ab63fa",
           "#FFA15A",
           "#19d3f3",
           "#FF6692",
           "#B6E880",
           "#FF97FF",
           "#FECB52"
          ],
          "font": {
           "color": "#2a3f5f"
          },
          "geo": {
           "bgcolor": "white",
           "lakecolor": "white",
           "landcolor": "#E5ECF6",
           "showlakes": true,
           "showland": true,
           "subunitcolor": "white"
          },
          "hoverlabel": {
           "align": "left"
          },
          "hovermode": "closest",
          "mapbox": {
           "style": "light"
          },
          "paper_bgcolor": "white",
          "plot_bgcolor": "#E5ECF6",
          "polar": {
           "angularaxis": {
            "gridcolor": "white",
            "linecolor": "white",
            "ticks": ""
           },
           "bgcolor": "#E5ECF6",
           "radialaxis": {
            "gridcolor": "white",
            "linecolor": "white",
            "ticks": ""
           }
          },
          "scene": {
           "xaxis": {
            "backgroundcolor": "#E5ECF6",
            "gridcolor": "white",
            "gridwidth": 2,
            "linecolor": "white",
            "showbackground": true,
            "ticks": "",
            "zerolinecolor": "white"
           },
           "yaxis": {
            "backgroundcolor": "#E5ECF6",
            "gridcolor": "white",
            "gridwidth": 2,
            "linecolor": "white",
            "showbackground": true,
            "ticks": "",
            "zerolinecolor": "white"
           },
           "zaxis": {
            "backgroundcolor": "#E5ECF6",
            "gridcolor": "white",
            "gridwidth": 2,
            "linecolor": "white",
            "showbackground": true,
            "ticks": "",
            "zerolinecolor": "white"
           }
          },
          "shapedefaults": {
           "line": {
            "color": "#2a3f5f"
           }
          },
          "ternary": {
           "aaxis": {
            "gridcolor": "white",
            "linecolor": "white",
            "ticks": ""
           },
           "baxis": {
            "gridcolor": "white",
            "linecolor": "white",
            "ticks": ""
           },
           "bgcolor": "#E5ECF6",
           "caxis": {
            "gridcolor": "white",
            "linecolor": "white",
            "ticks": ""
           }
          },
          "title": {
           "x": 0.05
          },
          "xaxis": {
           "automargin": true,
           "gridcolor": "white",
           "linecolor": "white",
           "ticks": "",
           "title": {
            "standoff": 15
           },
           "zerolinecolor": "white",
           "zerolinewidth": 2
          },
          "yaxis": {
           "automargin": true,
           "gridcolor": "white",
           "linecolor": "white",
           "ticks": "",
           "title": {
            "standoff": 15
           },
           "zerolinecolor": "white",
           "zerolinewidth": 2
          }
         }
        },
        "title": {
         "text": "Accident Hotspots"
        }
       }
      }
     },
     "metadata": {},
     "output_type": "display_data"
    }
   ],
   "source": [
    "# For geographical visualization of hotspots\n",
    "fig_geo = px.scatter_mapbox(\n",
    "    accidents_by_city_pd, lat='Start_Lat', lon='Start_Lng', size='count', \n",
    "    color='count', hover_name='City', hover_data=['State'],\n",
    "    title='Accident Hotspots',\n",
    "    mapbox_style='carto-positron', zoom=3, height=600\n",
    ")\n",
    "fig_geo.show()"
   ]
  },
  {
   "cell_type": "code",
   "execution_count": null,
   "metadata": {},
   "outputs": [],
   "source": [
    "spark.stop()"
   ]
  },
  {
   "cell_type": "code",
   "execution_count": null,
   "metadata": {},
   "outputs": [],
   "source": []
  }
 ],
 "metadata": {
  "kernelspec": {
   "display_name": "Python 3",
   "language": "python",
   "name": "python3"
  },
  "language_info": {
   "codemirror_mode": {
    "name": "ipython",
    "version": 3
   },
   "file_extension": ".py",
   "mimetype": "text/x-python",
   "name": "python",
   "nbconvert_exporter": "python",
   "pygments_lexer": "ipython3",
   "version": "3.10.12"
  }
 },
 "nbformat": 4,
 "nbformat_minor": 2
}
